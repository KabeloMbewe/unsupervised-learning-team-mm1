{
 "metadata": {
  "orig_nbformat": 4,
  "kernelspec": {
   "name": "python3",
   "display_name": "Python 3.9.5 64-bit ('unsup_predict': conda)"
  },
  "interpreter": {
   "hash": "50b37eb35d55879b46f571aef5e85bb73790ee1370826879b0c77563c93e6dfb"
  },
  "language_info": {
   "name": "python",
   "version": "3.9.5"
  }
 },
 "nbformat": 4,
 "nbformat_minor": 2,
 "cells": [
  {
   "cell_type": "code",
   "execution_count": 1,
   "metadata": {},
   "outputs": [],
   "source": [
    "import pandas as pd\n",
    "import numpy as np\n",
    "import igraph as ig\n",
    "\n",
    "import plotly.express as px\n",
    "\n",
    "from matplotlib import pyplot as plt\n",
    "\n",
    "from helpers import flatten_list\n",
    "from build_graphml_file import get_user_movie_graph, get_movie_prop_graph\n",
    "\n",
    "import nltk\n",
    "from nltk.corpus import stopwords"
   ]
  },
  {
   "cell_type": "code",
   "execution_count": 2,
   "metadata": {},
   "outputs": [],
   "source": [
    "random_state = 42\n",
    "stopwords = stopwords.words('english')"
   ]
  },
  {
   "cell_type": "code",
   "execution_count": 3,
   "metadata": {},
   "outputs": [],
   "source": [
    "genome_tag_vec = pd.read_csv(\"cleaned/genome_tag_vec.csv\")\n",
    "imdb_data = pd.read_csv(\"cleaned/imdb_data.csv\")\n",
    "movies = pd.read_csv(\"cleaned/movies.csv\")\n",
    "# tags = pd.read_csv(\"data/tags.csv\")\n",
    "test = pd.read_csv(\"data/test.csv\")\n",
    "train = pd.read_csv(\"data/train.csv\")"
   ]
  },
  {
   "cell_type": "code",
   "execution_count": 4,
   "metadata": {},
   "outputs": [
    {
     "output_type": "execute_result",
     "data": {
      "text/plain": [
       "   movieId      007  007 (series)  18th century    1920s    1930s    1950s  \\\n",
       "0        1  0.02875       0.02375       0.06250  0.07575  0.14075  0.14675   \n",
       "1        2  0.04125       0.04050       0.06275  0.08275  0.09100  0.06125   \n",
       "2        3  0.04675       0.05550       0.02925  0.08700  0.04750  0.04775   \n",
       "3        4  0.03425       0.03800       0.04050  0.03100  0.06500  0.03575   \n",
       "4        5  0.04300       0.05325       0.03800  0.04100  0.05400  0.06725   \n",
       "\n",
       "     1960s    1970s   1980s  ...  world politics  world war i  world war ii  \\\n",
       "0  0.06350  0.20375  0.2020  ...         0.04050      0.01425       0.03050   \n",
       "1  0.06925  0.09600  0.0765  ...         0.05250      0.01575       0.01250   \n",
       "2  0.04600  0.14275  0.0285  ...         0.06275      0.01950       0.02225   \n",
       "3  0.02900  0.08650  0.0320  ...         0.05325      0.02800       0.01675   \n",
       "4  0.02775  0.07650  0.0215  ...         0.05350      0.02050       0.01425   \n",
       "\n",
       "   writer's life  writers  writing    wuxia     wwii   zombie  zombies  \n",
       "0        0.03500  0.14125  0.05775  0.03900  0.02975  0.08475  0.02200  \n",
       "1        0.02000  0.12225  0.03275  0.02100  0.01100  0.10525  0.01975  \n",
       "2        0.02300  0.12200  0.03475  0.01700  0.01800  0.09100  0.01775  \n",
       "3        0.03875  0.18200  0.07050  0.01625  0.01425  0.08850  0.01500  \n",
       "4        0.02550  0.19225  0.02675  0.01625  0.01300  0.08700  0.01600  \n",
       "\n",
       "[5 rows x 1129 columns]"
      ],
      "text/html": "<div>\n<style scoped>\n    .dataframe tbody tr th:only-of-type {\n        vertical-align: middle;\n    }\n\n    .dataframe tbody tr th {\n        vertical-align: top;\n    }\n\n    .dataframe thead th {\n        text-align: right;\n    }\n</style>\n<table border=\"1\" class=\"dataframe\">\n  <thead>\n    <tr style=\"text-align: right;\">\n      <th></th>\n      <th>movieId</th>\n      <th>007</th>\n      <th>007 (series)</th>\n      <th>18th century</th>\n      <th>1920s</th>\n      <th>1930s</th>\n      <th>1950s</th>\n      <th>1960s</th>\n      <th>1970s</th>\n      <th>1980s</th>\n      <th>...</th>\n      <th>world politics</th>\n      <th>world war i</th>\n      <th>world war ii</th>\n      <th>writer's life</th>\n      <th>writers</th>\n      <th>writing</th>\n      <th>wuxia</th>\n      <th>wwii</th>\n      <th>zombie</th>\n      <th>zombies</th>\n    </tr>\n  </thead>\n  <tbody>\n    <tr>\n      <th>0</th>\n      <td>1</td>\n      <td>0.02875</td>\n      <td>0.02375</td>\n      <td>0.06250</td>\n      <td>0.07575</td>\n      <td>0.14075</td>\n      <td>0.14675</td>\n      <td>0.06350</td>\n      <td>0.20375</td>\n      <td>0.2020</td>\n      <td>...</td>\n      <td>0.04050</td>\n      <td>0.01425</td>\n      <td>0.03050</td>\n      <td>0.03500</td>\n      <td>0.14125</td>\n      <td>0.05775</td>\n      <td>0.03900</td>\n      <td>0.02975</td>\n      <td>0.08475</td>\n      <td>0.02200</td>\n    </tr>\n    <tr>\n      <th>1</th>\n      <td>2</td>\n      <td>0.04125</td>\n      <td>0.04050</td>\n      <td>0.06275</td>\n      <td>0.08275</td>\n      <td>0.09100</td>\n      <td>0.06125</td>\n      <td>0.06925</td>\n      <td>0.09600</td>\n      <td>0.0765</td>\n      <td>...</td>\n      <td>0.05250</td>\n      <td>0.01575</td>\n      <td>0.01250</td>\n      <td>0.02000</td>\n      <td>0.12225</td>\n      <td>0.03275</td>\n      <td>0.02100</td>\n      <td>0.01100</td>\n      <td>0.10525</td>\n      <td>0.01975</td>\n    </tr>\n    <tr>\n      <th>2</th>\n      <td>3</td>\n      <td>0.04675</td>\n      <td>0.05550</td>\n      <td>0.02925</td>\n      <td>0.08700</td>\n      <td>0.04750</td>\n      <td>0.04775</td>\n      <td>0.04600</td>\n      <td>0.14275</td>\n      <td>0.0285</td>\n      <td>...</td>\n      <td>0.06275</td>\n      <td>0.01950</td>\n      <td>0.02225</td>\n      <td>0.02300</td>\n      <td>0.12200</td>\n      <td>0.03475</td>\n      <td>0.01700</td>\n      <td>0.01800</td>\n      <td>0.09100</td>\n      <td>0.01775</td>\n    </tr>\n    <tr>\n      <th>3</th>\n      <td>4</td>\n      <td>0.03425</td>\n      <td>0.03800</td>\n      <td>0.04050</td>\n      <td>0.03100</td>\n      <td>0.06500</td>\n      <td>0.03575</td>\n      <td>0.02900</td>\n      <td>0.08650</td>\n      <td>0.0320</td>\n      <td>...</td>\n      <td>0.05325</td>\n      <td>0.02800</td>\n      <td>0.01675</td>\n      <td>0.03875</td>\n      <td>0.18200</td>\n      <td>0.07050</td>\n      <td>0.01625</td>\n      <td>0.01425</td>\n      <td>0.08850</td>\n      <td>0.01500</td>\n    </tr>\n    <tr>\n      <th>4</th>\n      <td>5</td>\n      <td>0.04300</td>\n      <td>0.05325</td>\n      <td>0.03800</td>\n      <td>0.04100</td>\n      <td>0.05400</td>\n      <td>0.06725</td>\n      <td>0.02775</td>\n      <td>0.07650</td>\n      <td>0.0215</td>\n      <td>...</td>\n      <td>0.05350</td>\n      <td>0.02050</td>\n      <td>0.01425</td>\n      <td>0.02550</td>\n      <td>0.19225</td>\n      <td>0.02675</td>\n      <td>0.01625</td>\n      <td>0.01300</td>\n      <td>0.08700</td>\n      <td>0.01600</td>\n    </tr>\n  </tbody>\n</table>\n<p>5 rows × 1129 columns</p>\n</div>"
     },
     "metadata": {},
     "execution_count": 4
    }
   ],
   "source": [
    "genome_tag_vec.head()"
   ]
  },
  {
   "cell_type": "code",
   "execution_count": 5,
   "metadata": {},
   "outputs": [
    {
     "output_type": "execute_result",
     "data": {
      "text/plain": [
       "   movieId                                         title_cast  \\\n",
       "0        1  Tom Hanks|Tim Allen|Don Rickles|Jim Varney|Wal...   \n",
       "1        2  Robin Williams|Jonathan Hyde|Kirsten Dunst|Bra...   \n",
       "2        3  Walter Matthau|Jack Lemmon|Sophia Loren|Ann-Ma...   \n",
       "3        4  Whitney Houston|Angela Bassett|Loretta Devine|...   \n",
       "4        5  Steve Martin|Diane Keaton|Martin Short|Kimberl...   \n",
       "\n",
       "              director  runtime      budget  \\\n",
       "0        John Lasseter     81.0  30000000.0   \n",
       "1   Jonathan Hensleigh    104.0  65000000.0   \n",
       "2  Mark Steven Johnson    101.0  25000000.0   \n",
       "3       Terry McMillan    124.0  16000000.0   \n",
       "4       Albert Hackett    106.0  30000000.0   \n",
       "\n",
       "                                       plot_keywords  \n",
       "0                   toy|rivalry|cowboy|cgi animation  \n",
       "1                   board game|adventurer|fight|game  \n",
       "2                         boat|lake|neighbor|rivalry  \n",
       "3  black american|husband wife relationship|betra...  \n",
       "4                    fatherhood|doberman|dog|mansion  "
      ],
      "text/html": "<div>\n<style scoped>\n    .dataframe tbody tr th:only-of-type {\n        vertical-align: middle;\n    }\n\n    .dataframe tbody tr th {\n        vertical-align: top;\n    }\n\n    .dataframe thead th {\n        text-align: right;\n    }\n</style>\n<table border=\"1\" class=\"dataframe\">\n  <thead>\n    <tr style=\"text-align: right;\">\n      <th></th>\n      <th>movieId</th>\n      <th>title_cast</th>\n      <th>director</th>\n      <th>runtime</th>\n      <th>budget</th>\n      <th>plot_keywords</th>\n    </tr>\n  </thead>\n  <tbody>\n    <tr>\n      <th>0</th>\n      <td>1</td>\n      <td>Tom Hanks|Tim Allen|Don Rickles|Jim Varney|Wal...</td>\n      <td>John Lasseter</td>\n      <td>81.0</td>\n      <td>30000000.0</td>\n      <td>toy|rivalry|cowboy|cgi animation</td>\n    </tr>\n    <tr>\n      <th>1</th>\n      <td>2</td>\n      <td>Robin Williams|Jonathan Hyde|Kirsten Dunst|Bra...</td>\n      <td>Jonathan Hensleigh</td>\n      <td>104.0</td>\n      <td>65000000.0</td>\n      <td>board game|adventurer|fight|game</td>\n    </tr>\n    <tr>\n      <th>2</th>\n      <td>3</td>\n      <td>Walter Matthau|Jack Lemmon|Sophia Loren|Ann-Ma...</td>\n      <td>Mark Steven Johnson</td>\n      <td>101.0</td>\n      <td>25000000.0</td>\n      <td>boat|lake|neighbor|rivalry</td>\n    </tr>\n    <tr>\n      <th>3</th>\n      <td>4</td>\n      <td>Whitney Houston|Angela Bassett|Loretta Devine|...</td>\n      <td>Terry McMillan</td>\n      <td>124.0</td>\n      <td>16000000.0</td>\n      <td>black american|husband wife relationship|betra...</td>\n    </tr>\n    <tr>\n      <th>4</th>\n      <td>5</td>\n      <td>Steve Martin|Diane Keaton|Martin Short|Kimberl...</td>\n      <td>Albert Hackett</td>\n      <td>106.0</td>\n      <td>30000000.0</td>\n      <td>fatherhood|doberman|dog|mansion</td>\n    </tr>\n  </tbody>\n</table>\n</div>"
     },
     "metadata": {},
     "execution_count": 5
    }
   ],
   "source": [
    "imdb_data.head()"
   ]
  },
  {
   "cell_type": "code",
   "execution_count": 6,
   "metadata": {},
   "outputs": [
    {
     "output_type": "execute_result",
     "data": {
      "text/plain": [
       "   movieId                         title  \\\n",
       "0        1                    Toy Story    \n",
       "1        2                      Jumanji    \n",
       "2        3             Grumpier Old Men    \n",
       "3        4            Waiting to Exhale    \n",
       "4        5  Father of the Bride Part II    \n",
       "\n",
       "                                        genres    year  \n",
       "0  Adventure|Animation|Children|Comedy|Fantasy  1995.0  \n",
       "1                   Adventure|Children|Fantasy  1995.0  \n",
       "2                               Comedy|Romance  1995.0  \n",
       "3                         Comedy|Drama|Romance  1995.0  \n",
       "4                                       Comedy  1995.0  "
      ],
      "text/html": "<div>\n<style scoped>\n    .dataframe tbody tr th:only-of-type {\n        vertical-align: middle;\n    }\n\n    .dataframe tbody tr th {\n        vertical-align: top;\n    }\n\n    .dataframe thead th {\n        text-align: right;\n    }\n</style>\n<table border=\"1\" class=\"dataframe\">\n  <thead>\n    <tr style=\"text-align: right;\">\n      <th></th>\n      <th>movieId</th>\n      <th>title</th>\n      <th>genres</th>\n      <th>year</th>\n    </tr>\n  </thead>\n  <tbody>\n    <tr>\n      <th>0</th>\n      <td>1</td>\n      <td>Toy Story</td>\n      <td>Adventure|Animation|Children|Comedy|Fantasy</td>\n      <td>1995.0</td>\n    </tr>\n    <tr>\n      <th>1</th>\n      <td>2</td>\n      <td>Jumanji</td>\n      <td>Adventure|Children|Fantasy</td>\n      <td>1995.0</td>\n    </tr>\n    <tr>\n      <th>2</th>\n      <td>3</td>\n      <td>Grumpier Old Men</td>\n      <td>Comedy|Romance</td>\n      <td>1995.0</td>\n    </tr>\n    <tr>\n      <th>3</th>\n      <td>4</td>\n      <td>Waiting to Exhale</td>\n      <td>Comedy|Drama|Romance</td>\n      <td>1995.0</td>\n    </tr>\n    <tr>\n      <th>4</th>\n      <td>5</td>\n      <td>Father of the Bride Part II</td>\n      <td>Comedy</td>\n      <td>1995.0</td>\n    </tr>\n  </tbody>\n</table>\n</div>"
     },
     "metadata": {},
     "execution_count": 6
    }
   ],
   "source": [
    "movies.head()"
   ]
  },
  {
   "cell_type": "code",
   "execution_count": 7,
   "metadata": {},
   "outputs": [],
   "source": [
    "# tags.head()"
   ]
  },
  {
   "cell_type": "code",
   "execution_count": 8,
   "metadata": {},
   "outputs": [
    {
     "output_type": "execute_result",
     "data": {
      "text/plain": [
       "   userId  movieId\n",
       "0       1     2011\n",
       "1       1     4144\n",
       "2       1     5767\n",
       "3       1     6711\n",
       "4       1     7318"
      ],
      "text/html": "<div>\n<style scoped>\n    .dataframe tbody tr th:only-of-type {\n        vertical-align: middle;\n    }\n\n    .dataframe tbody tr th {\n        vertical-align: top;\n    }\n\n    .dataframe thead th {\n        text-align: right;\n    }\n</style>\n<table border=\"1\" class=\"dataframe\">\n  <thead>\n    <tr style=\"text-align: right;\">\n      <th></th>\n      <th>userId</th>\n      <th>movieId</th>\n    </tr>\n  </thead>\n  <tbody>\n    <tr>\n      <th>0</th>\n      <td>1</td>\n      <td>2011</td>\n    </tr>\n    <tr>\n      <th>1</th>\n      <td>1</td>\n      <td>4144</td>\n    </tr>\n    <tr>\n      <th>2</th>\n      <td>1</td>\n      <td>5767</td>\n    </tr>\n    <tr>\n      <th>3</th>\n      <td>1</td>\n      <td>6711</td>\n    </tr>\n    <tr>\n      <th>4</th>\n      <td>1</td>\n      <td>7318</td>\n    </tr>\n  </tbody>\n</table>\n</div>"
     },
     "metadata": {},
     "execution_count": 8
    }
   ],
   "source": [
    "test.head()"
   ]
  },
  {
   "cell_type": "code",
   "execution_count": 9,
   "metadata": {},
   "outputs": [
    {
     "output_type": "execute_result",
     "data": {
      "text/plain": [
       "   userId  movieId  rating   timestamp\n",
       "0    5163    57669     4.0  1518349992\n",
       "1  106343        5     4.5  1206238739\n",
       "2  146790     5459     5.0  1076215539\n",
       "3  106362    32296     2.0  1423042565\n",
       "4    9041      366     3.0   833375837"
      ],
      "text/html": "<div>\n<style scoped>\n    .dataframe tbody tr th:only-of-type {\n        vertical-align: middle;\n    }\n\n    .dataframe tbody tr th {\n        vertical-align: top;\n    }\n\n    .dataframe thead th {\n        text-align: right;\n    }\n</style>\n<table border=\"1\" class=\"dataframe\">\n  <thead>\n    <tr style=\"text-align: right;\">\n      <th></th>\n      <th>userId</th>\n      <th>movieId</th>\n      <th>rating</th>\n      <th>timestamp</th>\n    </tr>\n  </thead>\n  <tbody>\n    <tr>\n      <th>0</th>\n      <td>5163</td>\n      <td>57669</td>\n      <td>4.0</td>\n      <td>1518349992</td>\n    </tr>\n    <tr>\n      <th>1</th>\n      <td>106343</td>\n      <td>5</td>\n      <td>4.5</td>\n      <td>1206238739</td>\n    </tr>\n    <tr>\n      <th>2</th>\n      <td>146790</td>\n      <td>5459</td>\n      <td>5.0</td>\n      <td>1076215539</td>\n    </tr>\n    <tr>\n      <th>3</th>\n      <td>106362</td>\n      <td>32296</td>\n      <td>2.0</td>\n      <td>1423042565</td>\n    </tr>\n    <tr>\n      <th>4</th>\n      <td>9041</td>\n      <td>366</td>\n      <td>3.0</td>\n      <td>833375837</td>\n    </tr>\n  </tbody>\n</table>\n</div>"
     },
     "metadata": {},
     "execution_count": 9
    }
   ],
   "source": [
    "train.head()"
   ]
  },
  {
   "cell_type": "code",
   "execution_count": 10,
   "metadata": {},
   "outputs": [
    {
     "output_type": "display_data",
     "data": {
      "application/vnd.plotly.v1+json": {
       "config": {
        "plotlyServerURL": "https://plot.ly"
       },
       "data": [
        {
         "alignmentgroup": "True",
         "hovertemplate": "index=%{marker.color}<br>value=%{y}<extra></extra>",
         "legendgroup": "",
         "marker": {
          "color": [
           4,
           3,
           5,
           3.5,
           4.5,
           2,
           2.5,
           1,
           1.5,
           0.5
          ],
          "coloraxis": "coloraxis",
          "pattern": {
           "shape": ""
          }
         },
         "name": "",
         "offsetgroup": "",
         "orientation": "v",
         "showlegend": false,
         "textposition": "auto",
         "type": "bar",
         "x": [
          4,
          3,
          5,
          3.5,
          4.5,
          2,
          2.5,
          1,
          1.5,
          0.5
         ],
         "xaxis": "x",
         "y": [
          0.2652966918725709,
          0.19597515529440987,
          0.1445224508146869,
          0.1270637171578748,
          0.08805126540519145,
          0.06568185040896844,
          0.05055760788109005,
          0.03112118173950939,
          0.01597303930245065,
          0.01575704012324753
         ],
         "yaxis": "y"
        }
       ],
       "layout": {
        "barmode": "relative",
        "coloraxis": {
         "colorbar": {
          "title": {
           "text": "index"
          }
         },
         "colorscale": [
          [
           0,
           "#0d0887"
          ],
          [
           0.1111111111111111,
           "#46039f"
          ],
          [
           0.2222222222222222,
           "#7201a8"
          ],
          [
           0.3333333333333333,
           "#9c179e"
          ],
          [
           0.4444444444444444,
           "#bd3786"
          ],
          [
           0.5555555555555556,
           "#d8576b"
          ],
          [
           0.6666666666666666,
           "#ed7953"
          ],
          [
           0.7777777777777778,
           "#fb9f3a"
          ],
          [
           0.8888888888888888,
           "#fdca26"
          ],
          [
           1,
           "#f0f921"
          ]
         ]
        },
        "legend": {
         "tracegroupgap": 0
        },
        "margin": {
         "t": 60
        },
        "template": {
         "data": {
          "bar": [
           {
            "error_x": {
             "color": "#2a3f5f"
            },
            "error_y": {
             "color": "#2a3f5f"
            },
            "marker": {
             "line": {
              "color": "#E5ECF6",
              "width": 0.5
             },
             "pattern": {
              "fillmode": "overlay",
              "size": 10,
              "solidity": 0.2
             }
            },
            "type": "bar"
           }
          ],
          "barpolar": [
           {
            "marker": {
             "line": {
              "color": "#E5ECF6",
              "width": 0.5
             },
             "pattern": {
              "fillmode": "overlay",
              "size": 10,
              "solidity": 0.2
             }
            },
            "type": "barpolar"
           }
          ],
          "carpet": [
           {
            "aaxis": {
             "endlinecolor": "#2a3f5f",
             "gridcolor": "white",
             "linecolor": "white",
             "minorgridcolor": "white",
             "startlinecolor": "#2a3f5f"
            },
            "baxis": {
             "endlinecolor": "#2a3f5f",
             "gridcolor": "white",
             "linecolor": "white",
             "minorgridcolor": "white",
             "startlinecolor": "#2a3f5f"
            },
            "type": "carpet"
           }
          ],
          "choropleth": [
           {
            "colorbar": {
             "outlinewidth": 0,
             "ticks": ""
            },
            "type": "choropleth"
           }
          ],
          "contour": [
           {
            "colorbar": {
             "outlinewidth": 0,
             "ticks": ""
            },
            "colorscale": [
             [
              0,
              "#0d0887"
             ],
             [
              0.1111111111111111,
              "#46039f"
             ],
             [
              0.2222222222222222,
              "#7201a8"
             ],
             [
              0.3333333333333333,
              "#9c179e"
             ],
             [
              0.4444444444444444,
              "#bd3786"
             ],
             [
              0.5555555555555556,
              "#d8576b"
             ],
             [
              0.6666666666666666,
              "#ed7953"
             ],
             [
              0.7777777777777778,
              "#fb9f3a"
             ],
             [
              0.8888888888888888,
              "#fdca26"
             ],
             [
              1,
              "#f0f921"
             ]
            ],
            "type": "contour"
           }
          ],
          "contourcarpet": [
           {
            "colorbar": {
             "outlinewidth": 0,
             "ticks": ""
            },
            "type": "contourcarpet"
           }
          ],
          "heatmap": [
           {
            "colorbar": {
             "outlinewidth": 0,
             "ticks": ""
            },
            "colorscale": [
             [
              0,
              "#0d0887"
             ],
             [
              0.1111111111111111,
              "#46039f"
             ],
             [
              0.2222222222222222,
              "#7201a8"
             ],
             [
              0.3333333333333333,
              "#9c179e"
             ],
             [
              0.4444444444444444,
              "#bd3786"
             ],
             [
              0.5555555555555556,
              "#d8576b"
             ],
             [
              0.6666666666666666,
              "#ed7953"
             ],
             [
              0.7777777777777778,
              "#fb9f3a"
             ],
             [
              0.8888888888888888,
              "#fdca26"
             ],
             [
              1,
              "#f0f921"
             ]
            ],
            "type": "heatmap"
           }
          ],
          "heatmapgl": [
           {
            "colorbar": {
             "outlinewidth": 0,
             "ticks": ""
            },
            "colorscale": [
             [
              0,
              "#0d0887"
             ],
             [
              0.1111111111111111,
              "#46039f"
             ],
             [
              0.2222222222222222,
              "#7201a8"
             ],
             [
              0.3333333333333333,
              "#9c179e"
             ],
             [
              0.4444444444444444,
              "#bd3786"
             ],
             [
              0.5555555555555556,
              "#d8576b"
             ],
             [
              0.6666666666666666,
              "#ed7953"
             ],
             [
              0.7777777777777778,
              "#fb9f3a"
             ],
             [
              0.8888888888888888,
              "#fdca26"
             ],
             [
              1,
              "#f0f921"
             ]
            ],
            "type": "heatmapgl"
           }
          ],
          "histogram": [
           {
            "marker": {
             "pattern": {
              "fillmode": "overlay",
              "size": 10,
              "solidity": 0.2
             }
            },
            "type": "histogram"
           }
          ],
          "histogram2d": [
           {
            "colorbar": {
             "outlinewidth": 0,
             "ticks": ""
            },
            "colorscale": [
             [
              0,
              "#0d0887"
             ],
             [
              0.1111111111111111,
              "#46039f"
             ],
             [
              0.2222222222222222,
              "#7201a8"
             ],
             [
              0.3333333333333333,
              "#9c179e"
             ],
             [
              0.4444444444444444,
              "#bd3786"
             ],
             [
              0.5555555555555556,
              "#d8576b"
             ],
             [
              0.6666666666666666,
              "#ed7953"
             ],
             [
              0.7777777777777778,
              "#fb9f3a"
             ],
             [
              0.8888888888888888,
              "#fdca26"
             ],
             [
              1,
              "#f0f921"
             ]
            ],
            "type": "histogram2d"
           }
          ],
          "histogram2dcontour": [
           {
            "colorbar": {
             "outlinewidth": 0,
             "ticks": ""
            },
            "colorscale": [
             [
              0,
              "#0d0887"
             ],
             [
              0.1111111111111111,
              "#46039f"
             ],
             [
              0.2222222222222222,
              "#7201a8"
             ],
             [
              0.3333333333333333,
              "#9c179e"
             ],
             [
              0.4444444444444444,
              "#bd3786"
             ],
             [
              0.5555555555555556,
              "#d8576b"
             ],
             [
              0.6666666666666666,
              "#ed7953"
             ],
             [
              0.7777777777777778,
              "#fb9f3a"
             ],
             [
              0.8888888888888888,
              "#fdca26"
             ],
             [
              1,
              "#f0f921"
             ]
            ],
            "type": "histogram2dcontour"
           }
          ],
          "mesh3d": [
           {
            "colorbar": {
             "outlinewidth": 0,
             "ticks": ""
            },
            "type": "mesh3d"
           }
          ],
          "parcoords": [
           {
            "line": {
             "colorbar": {
              "outlinewidth": 0,
              "ticks": ""
             }
            },
            "type": "parcoords"
           }
          ],
          "pie": [
           {
            "automargin": true,
            "type": "pie"
           }
          ],
          "scatter": [
           {
            "marker": {
             "colorbar": {
              "outlinewidth": 0,
              "ticks": ""
             }
            },
            "type": "scatter"
           }
          ],
          "scatter3d": [
           {
            "line": {
             "colorbar": {
              "outlinewidth": 0,
              "ticks": ""
             }
            },
            "marker": {
             "colorbar": {
              "outlinewidth": 0,
              "ticks": ""
             }
            },
            "type": "scatter3d"
           }
          ],
          "scattercarpet": [
           {
            "marker": {
             "colorbar": {
              "outlinewidth": 0,
              "ticks": ""
             }
            },
            "type": "scattercarpet"
           }
          ],
          "scattergeo": [
           {
            "marker": {
             "colorbar": {
              "outlinewidth": 0,
              "ticks": ""
             }
            },
            "type": "scattergeo"
           }
          ],
          "scattergl": [
           {
            "marker": {
             "colorbar": {
              "outlinewidth": 0,
              "ticks": ""
             }
            },
            "type": "scattergl"
           }
          ],
          "scattermapbox": [
           {
            "marker": {
             "colorbar": {
              "outlinewidth": 0,
              "ticks": ""
             }
            },
            "type": "scattermapbox"
           }
          ],
          "scatterpolar": [
           {
            "marker": {
             "colorbar": {
              "outlinewidth": 0,
              "ticks": ""
             }
            },
            "type": "scatterpolar"
           }
          ],
          "scatterpolargl": [
           {
            "marker": {
             "colorbar": {
              "outlinewidth": 0,
              "ticks": ""
             }
            },
            "type": "scatterpolargl"
           }
          ],
          "scatterternary": [
           {
            "marker": {
             "colorbar": {
              "outlinewidth": 0,
              "ticks": ""
             }
            },
            "type": "scatterternary"
           }
          ],
          "surface": [
           {
            "colorbar": {
             "outlinewidth": 0,
             "ticks": ""
            },
            "colorscale": [
             [
              0,
              "#0d0887"
             ],
             [
              0.1111111111111111,
              "#46039f"
             ],
             [
              0.2222222222222222,
              "#7201a8"
             ],
             [
              0.3333333333333333,
              "#9c179e"
             ],
             [
              0.4444444444444444,
              "#bd3786"
             ],
             [
              0.5555555555555556,
              "#d8576b"
             ],
             [
              0.6666666666666666,
              "#ed7953"
             ],
             [
              0.7777777777777778,
              "#fb9f3a"
             ],
             [
              0.8888888888888888,
              "#fdca26"
             ],
             [
              1,
              "#f0f921"
             ]
            ],
            "type": "surface"
           }
          ],
          "table": [
           {
            "cells": {
             "fill": {
              "color": "#EBF0F8"
             },
             "line": {
              "color": "white"
             }
            },
            "header": {
             "fill": {
              "color": "#C8D4E3"
             },
             "line": {
              "color": "white"
             }
            },
            "type": "table"
           }
          ]
         },
         "layout": {
          "annotationdefaults": {
           "arrowcolor": "#2a3f5f",
           "arrowhead": 0,
           "arrowwidth": 1
          },
          "autotypenumbers": "strict",
          "coloraxis": {
           "colorbar": {
            "outlinewidth": 0,
            "ticks": ""
           }
          },
          "colorscale": {
           "diverging": [
            [
             0,
             "#8e0152"
            ],
            [
             0.1,
             "#c51b7d"
            ],
            [
             0.2,
             "#de77ae"
            ],
            [
             0.3,
             "#f1b6da"
            ],
            [
             0.4,
             "#fde0ef"
            ],
            [
             0.5,
             "#f7f7f7"
            ],
            [
             0.6,
             "#e6f5d0"
            ],
            [
             0.7,
             "#b8e186"
            ],
            [
             0.8,
             "#7fbc41"
            ],
            [
             0.9,
             "#4d9221"
            ],
            [
             1,
             "#276419"
            ]
           ],
           "sequential": [
            [
             0,
             "#0d0887"
            ],
            [
             0.1111111111111111,
             "#46039f"
            ],
            [
             0.2222222222222222,
             "#7201a8"
            ],
            [
             0.3333333333333333,
             "#9c179e"
            ],
            [
             0.4444444444444444,
             "#bd3786"
            ],
            [
             0.5555555555555556,
             "#d8576b"
            ],
            [
             0.6666666666666666,
             "#ed7953"
            ],
            [
             0.7777777777777778,
             "#fb9f3a"
            ],
            [
             0.8888888888888888,
             "#fdca26"
            ],
            [
             1,
             "#f0f921"
            ]
           ],
           "sequentialminus": [
            [
             0,
             "#0d0887"
            ],
            [
             0.1111111111111111,
             "#46039f"
            ],
            [
             0.2222222222222222,
             "#7201a8"
            ],
            [
             0.3333333333333333,
             "#9c179e"
            ],
            [
             0.4444444444444444,
             "#bd3786"
            ],
            [
             0.5555555555555556,
             "#d8576b"
            ],
            [
             0.6666666666666666,
             "#ed7953"
            ],
            [
             0.7777777777777778,
             "#fb9f3a"
            ],
            [
             0.8888888888888888,
             "#fdca26"
            ],
            [
             1,
             "#f0f921"
            ]
           ]
          },
          "colorway": [
           "#636efa",
           "#EF553B",
           "#00cc96",
           "#ab63fa",
           "#FFA15A",
           "#19d3f3",
           "#FF6692",
           "#B6E880",
           "#FF97FF",
           "#FECB52"
          ],
          "font": {
           "color": "#2a3f5f"
          },
          "geo": {
           "bgcolor": "white",
           "lakecolor": "white",
           "landcolor": "#E5ECF6",
           "showlakes": true,
           "showland": true,
           "subunitcolor": "white"
          },
          "hoverlabel": {
           "align": "left"
          },
          "hovermode": "closest",
          "mapbox": {
           "style": "light"
          },
          "paper_bgcolor": "white",
          "plot_bgcolor": "#E5ECF6",
          "polar": {
           "angularaxis": {
            "gridcolor": "white",
            "linecolor": "white",
            "ticks": ""
           },
           "bgcolor": "#E5ECF6",
           "radialaxis": {
            "gridcolor": "white",
            "linecolor": "white",
            "ticks": ""
           }
          },
          "scene": {
           "xaxis": {
            "backgroundcolor": "#E5ECF6",
            "gridcolor": "white",
            "gridwidth": 2,
            "linecolor": "white",
            "showbackground": true,
            "ticks": "",
            "zerolinecolor": "white"
           },
           "yaxis": {
            "backgroundcolor": "#E5ECF6",
            "gridcolor": "white",
            "gridwidth": 2,
            "linecolor": "white",
            "showbackground": true,
            "ticks": "",
            "zerolinecolor": "white"
           },
           "zaxis": {
            "backgroundcolor": "#E5ECF6",
            "gridcolor": "white",
            "gridwidth": 2,
            "linecolor": "white",
            "showbackground": true,
            "ticks": "",
            "zerolinecolor": "white"
           }
          },
          "shapedefaults": {
           "line": {
            "color": "#2a3f5f"
           }
          },
          "ternary": {
           "aaxis": {
            "gridcolor": "white",
            "linecolor": "white",
            "ticks": ""
           },
           "baxis": {
            "gridcolor": "white",
            "linecolor": "white",
            "ticks": ""
           },
           "bgcolor": "#E5ECF6",
           "caxis": {
            "gridcolor": "white",
            "linecolor": "white",
            "ticks": ""
           }
          },
          "title": {
           "x": 0.05
          },
          "xaxis": {
           "automargin": true,
           "gridcolor": "white",
           "linecolor": "white",
           "ticks": "",
           "title": {
            "standoff": 15
           },
           "zerolinecolor": "white",
           "zerolinewidth": 2
          },
          "yaxis": {
           "automargin": true,
           "gridcolor": "white",
           "linecolor": "white",
           "ticks": "",
           "title": {
            "standoff": 15
           },
           "zerolinecolor": "white",
           "zerolinewidth": 2
          }
         }
        },
        "xaxis": {
         "anchor": "y",
         "domain": [
          0,
          1
         ],
         "title": {
          "text": "index"
         }
        },
        "yaxis": {
         "anchor": "x",
         "domain": [
          0,
          1
         ],
         "title": {
          "text": "value"
         }
        }
       }
      }
     },
     "metadata": {}
    }
   ],
   "source": [
    "distrib = train.rating.value_counts(normalize=True)\n",
    "\n",
    "fig = px.bar(distrib, color=distrib.index)\n",
    "\n",
    "fig.show()"
   ]
  },
  {
   "cell_type": "code",
   "execution_count": 11,
   "metadata": {},
   "outputs": [],
   "source": [
    "from sklearn.feature_extraction.text import TfidfVectorizer, CountVectorizer\n",
    "from sklearn.preprocessing import OneHotEncoder, Normalizer, StandardScaler, MinMaxScaler, RobustScaler\n",
    "\n",
    "from sklearn.metrics.pairwise import cosine_similarity\n",
    "\n",
    "from scipy import sparse\n",
    "\n",
    "from sklearn.decomposition import TruncatedSVD\n",
    "\n",
    "from sklearn.cluster import KMeans"
   ]
  },
  {
   "cell_type": "code",
   "execution_count": 12,
   "metadata": {},
   "outputs": [],
   "source": [
    "full_combine = movies.merge(imdb_data, on='movieId', how='left')\n",
    "normal_year_mean = full_combine[full_combine.year != 0].year.mean()\n",
    "full_combine['year'].replace(0, normal_year_mean, inplace=True)\n",
    "\n",
    "# movies.year.fillna(int(movies.year.median()), inplace=True)\n",
    "# movies.genres.fillna(\"<unknown>\", inplace=True)\n",
    "full_combine.title = full_combine.title.str.strip().str.replace(r\"(.*), The$\", r\"The \\1\", regex=True)\n",
    "full_combine.title_cast.fillna(\"\", inplace=True)\n",
    "full_combine.director.fillna(\"\", inplace=True)\n",
    "full_combine.runtime.fillna(int(full_combine.runtime.median()), inplace=True)\n",
    "full_combine.budget.fillna(int(full_combine.budget.median()), inplace=True)\n",
    "full_combine.plot_keywords.fillna(\"\", inplace=True)\n",
    "\n",
    "full_combine['cast_size'] = full_combine.title_cast.str.split('|').apply(len)\n",
    "full_combine['genre_count'] = full_combine.genres.str.split('|').apply(len)\n",
    "\n",
    "movie_groups = train.groupby('movieId')\n",
    "full_combine['rating_mean'] = movie_groups.rating.mean()\n",
    "full_combine['rating_std'] = movie_groups.rating.std()\n",
    "full_combine['rating_iqr'] =  movie_groups.rating.quantile(0.75) - movie_groups.rating.quantile(0.25)\n",
    "full_combine['rating_count'] = movie_groups.rating.count()\n",
    "\n",
    "full_combine.fillna(0, inplace=True)"
   ]
  },
  {
   "cell_type": "code",
   "execution_count": 13,
   "metadata": {},
   "outputs": [
    {
     "output_type": "execute_result",
     "data": {
      "text/plain": [
       "Index(['movieId', 'title', 'genres', 'year', 'title_cast', 'director',\n",
       "       'runtime', 'budget', 'plot_keywords', 'cast_size', 'genre_count',\n",
       "       'rating_mean', 'rating_std', 'rating_iqr', 'rating_count'],\n",
       "      dtype='object')"
      ]
     },
     "metadata": {},
     "execution_count": 13
    }
   ],
   "source": [
    "features = []\n",
    "full_combine.columns"
   ]
  },
  {
   "cell_type": "code",
   "execution_count": 14,
   "metadata": {},
   "outputs": [],
   "source": [
    "# title_vectrz = TfidfVectorizer(min_df=20, ngram_range=(1, 3), stop_words=stopwords, norm=None)\n",
    "# title_vec = title_vectrz.fit_transform(full_combine.title)\n",
    "# print(\"Title Tokens:\", len(title_vectrz.get_feature_names()))\n",
    "# features.extend(title_vectrz.get_feature_names())"
   ]
  },
  {
   "cell_type": "code",
   "execution_count": 15,
   "metadata": {},
   "outputs": [
    {
     "output_type": "stream",
     "name": "stdout",
     "text": [
      "Genre Tokens: 20\n"
     ]
    }
   ],
   "source": [
    "genre_vectrz = TfidfVectorizer(token_pattern=r\"[A-z\\-]+\", min_df=2, norm=None)\n",
    "genre_vec = genre_vectrz.fit_transform(full_combine.genres)\n",
    "print(\"Genre Tokens:\", len(genre_vectrz.get_feature_names()))\n",
    "features.extend(genre_vectrz.get_feature_names())"
   ]
  },
  {
   "cell_type": "code",
   "execution_count": 16,
   "metadata": {},
   "outputs": [],
   "source": [
    "# cast_vectrz = TfidfVectorizer(token_pattern=r\"[^\\|]+\", min_df=50, norm=None)\n",
    "# cast_vec = cast_vectrz.fit_transform(full_combine.title_cast)\n",
    "# print(\"Cast Tokens:\", len(cast_vectrz.get_feature_names()))\n",
    "# features.extend(cast_vectrz.get_feature_names())"
   ]
  },
  {
   "cell_type": "code",
   "execution_count": 17,
   "metadata": {},
   "outputs": [],
   "source": [
    "# director_vectrz = TfidfVectorizer(token_pattern=r\".+\", min_df=5, stop_words=['see full summary'], norm=None)\n",
    "# director_vec = director_vectrz.fit_transform(full_combine.director)\n",
    "# print(\"Director Tokens:\", len(director_vectrz.get_feature_names()))\n",
    "# features.extend(director_vectrz.get_feature_names())"
   ]
  },
  {
   "cell_type": "code",
   "execution_count": 18,
   "metadata": {},
   "outputs": [
    {
     "output_type": "stream",
     "name": "stdout",
     "text": [
      "Plot KW Tokens: 439\n"
     ]
    }
   ],
   "source": [
    "plot_vectrz = TfidfVectorizer(token_pattern=r\"[^\\|]+\", min_df=20, stop_words=stopwords, norm=None)\n",
    "plot_vec = plot_vectrz.fit_transform(full_combine.plot_keywords)\n",
    "print(\"Plot KW Tokens:\", len(plot_vectrz.get_feature_names()))\n",
    "features.extend(plot_vectrz.get_feature_names())"
   ]
  },
  {
   "cell_type": "code",
   "execution_count": 19,
   "metadata": {},
   "outputs": [],
   "source": [
    "# gtag_vec = genome_tag_vec.drop('movieId', axis=1).values\n",
    "# gtag_vec_sm = sparse.coo_matrix(gtag_vec, shape=(10000,1128))\n"
   ]
  },
  {
   "cell_type": "code",
   "execution_count": 20,
   "metadata": {},
   "outputs": [
    {
     "output_type": "execute_result",
     "data": {
      "text/plain": [
       "(62423, 464)"
      ]
     },
     "metadata": {},
     "execution_count": 20
    }
   ],
   "source": [
    "extra_features = [\"year\", 'rating_mean', 'rating_std', 'rating_iqr', 'rating_count']\n",
    "features.extend(extra_features)\n",
    "\n",
    "extra_features = full_combine[extra_features]\n",
    "\n",
    "scaler = MinMaxScaler()\n",
    "transformed = scaler.fit_transform(extra_features)\n",
    "std_extra_sparse = sparse.csr_matrix(transformed)\n",
    "\n",
    "tfidf_vecs = sparse.hstack([\n",
    "    # title_vec,\n",
    "    genre_vec,\n",
    "    # cast_vec,\n",
    "    # director_vec,\n",
    "    plot_vec,\n",
    "]).tocsr()\n",
    "\n",
    "vecs = sparse.hstack([tfidf_vecs, std_extra_sparse])\n",
    "norm = Normalizer(copy=True)\n",
    "norm_vecs = norm.transform(vecs)\n",
    "norm_vecs.shape"
   ]
  },
  {
   "cell_type": "code",
   "execution_count": 21,
   "metadata": {
    "tags": []
   },
   "outputs": [
    {
     "output_type": "execute_result",
     "data": {
      "text/plain": [
       "                            a         b      diff\n",
       "based on comic book  0.000000  0.566415  0.566415\n",
       "thriller             0.000000  0.191897  0.191897\n",
       "superhero            0.670019  0.537044  0.132976\n",
       "imax                 0.544148  0.436153  0.107994\n",
       "sci-fi               0.310074  0.248535  0.061539\n",
       "adventure            0.298624  0.239358  0.059267\n",
       "action               0.252571  0.202445  0.050127\n",
       "year                 0.076569  0.060483  0.016086"
      ],
      "text/html": "<div>\n<style scoped>\n    .dataframe tbody tr th:only-of-type {\n        vertical-align: middle;\n    }\n\n    .dataframe tbody tr th {\n        vertical-align: top;\n    }\n\n    .dataframe thead th {\n        text-align: right;\n    }\n</style>\n<table border=\"1\" class=\"dataframe\">\n  <thead>\n    <tr style=\"text-align: right;\">\n      <th></th>\n      <th>a</th>\n      <th>b</th>\n      <th>diff</th>\n    </tr>\n  </thead>\n  <tbody>\n    <tr>\n      <th>based on comic book</th>\n      <td>0.000000</td>\n      <td>0.566415</td>\n      <td>0.566415</td>\n    </tr>\n    <tr>\n      <th>thriller</th>\n      <td>0.000000</td>\n      <td>0.191897</td>\n      <td>0.191897</td>\n    </tr>\n    <tr>\n      <th>superhero</th>\n      <td>0.670019</td>\n      <td>0.537044</td>\n      <td>0.132976</td>\n    </tr>\n    <tr>\n      <th>imax</th>\n      <td>0.544148</td>\n      <td>0.436153</td>\n      <td>0.107994</td>\n    </tr>\n    <tr>\n      <th>sci-fi</th>\n      <td>0.310074</td>\n      <td>0.248535</td>\n      <td>0.061539</td>\n    </tr>\n    <tr>\n      <th>adventure</th>\n      <td>0.298624</td>\n      <td>0.239358</td>\n      <td>0.059267</td>\n    </tr>\n    <tr>\n      <th>action</th>\n      <td>0.252571</td>\n      <td>0.202445</td>\n      <td>0.050127</td>\n    </tr>\n    <tr>\n      <th>year</th>\n      <td>0.076569</td>\n      <td>0.060483</td>\n      <td>0.016086</td>\n    </tr>\n  </tbody>\n</table>\n</div>"
     },
     "metadata": {},
     "execution_count": 21
    }
   ],
   "source": [
    "a = norm_vecs.getrow(17067).toarray().flatten()\n",
    "b = norm_vecs.getrow(14628).toarray().flatten()\n",
    "\n",
    "f = pd.DataFrame(index=features)\n",
    "f['a'] = a\n",
    "f['b'] = b\n",
    "f['diff'] = np.abs(f.a - f.b)\n",
    "\n",
    "f[f.a != f.b].sort_values('diff', ascending=False)"
   ]
  },
  {
   "cell_type": "code",
   "execution_count": 22,
   "metadata": {},
   "outputs": [
    {
     "output_type": "stream",
     "name": "stdout",
     "text": [
      "1.0 17067 The Avengers\n",
      "0.8624198267 10002 Batman Begins\n",
      "0.8389877328 28066 Power/Rangers\n",
      "0.8370835155 3692 X-Men\n",
      "0.8046544477 5241 Spider-Man\n",
      "0.8014666 14628 Iron Man 2\n",
      "0.7665353997 19678 Iron Man 3\n",
      "0.764033161 24172 Super Capers\n",
      "0.7423435796 19885 Pacific Rim\n",
      "0.7423429644 21607 Godzilla\n",
      "--------------------\n",
      "0.002133029211248556 Roundhay Garden Scene\n",
      "0.001954029887012206 Man Walking Around a Corner\n",
      "0.001910125214377244 Dying Swan, The (Umirayushchii lebed)\n",
      "0.0017722046933492286 The Black Devil\n",
      "0.001353019361113644 Buffalo Running\n",
      "0.0013467001345045465 Twilight of a Woman's Soul (Sumerki zhenskoi dushi)\n",
      "0.001311982434090117 Old Man Drinking a Glass of Beer\n",
      "0.0009106128721082572 Athlete Swinging a Pick\n",
      "0.0006014172925917367 Sallie Gardner at a Gallop\n",
      "0.0 Passage de Venus\n"
     ]
    }
   ],
   "source": [
    "def most_similar_to(movieId):\n",
    "    movie_idx = movies[movies['movieId'] == movieId].index[0]\n",
    "\n",
    "    return norm_vecs.dot(norm_vecs.getrow(movie_idx).transpose())\n",
    "\n",
    "avengers = 89745\n",
    "avengers2 = 122892\n",
    "amazing_spiderman = 95510\n",
    "fault_in_stars = 111921\n",
    "\n",
    "mst = most_similar_to(avengers).toarray().flatten()\n",
    "n = 10\n",
    "top_n = mst.argsort(axis=0)[-n:][::-1]\n",
    "bot_n = mst.argsort(axis=0)[:n][::-1]\n",
    "\n",
    "for similar_idx in top_n:\n",
    "    title = full_combine.iloc[similar_idx].title\n",
    "    sim = round(mst[similar_idx], 10)\n",
    "    print(sim, similar_idx, title)\n",
    "\n",
    "print('-' * 20)\n",
    "\n",
    "for similar_idx in bot_n:\n",
    "    title = full_combine.iloc[similar_idx].title\n",
    "    sim = mst[similar_idx]\n",
    "    print(sim, title)\n",
    "# most_similar = most_similar_to(avengers).toarray().argmax()\n",
    "# movie_data.iloc[most_similar]"
   ]
  },
  {
   "cell_type": "code",
   "execution_count": 23,
   "metadata": {
    "tags": []
   },
   "outputs": [],
   "source": [
    "movie_indexes = full_combine.movieId.copy()\n",
    "experiment = train.copy().drop('timestamp', axis=1)\n",
    "\n",
    "mid_to_idx = pd.Series(movie_indexes.index.values, index=movie_indexes).to_dict()"
   ]
  },
  {
   "cell_type": "code",
   "execution_count": 24,
   "metadata": {},
   "outputs": [],
   "source": [
    "def get_similarity(id1, id2):\n",
    "    a = vecs[mid_to_idx[id1], :]\n",
    "    b = vecs[mid_to_idx[id2], :]\n",
    "    return a.dot(b.transpose()).toarray().flatten()[0]\n",
    "\n",
    "def batch_similarity(id1, id_list: list):\n",
    "    a = vecs[mid_to_idx[id1], :]\n",
    "    idxs = [mid_to_idx[i] for i in id_list]\n",
    "    bs = vecs[idxs, :]\n",
    "    return bs.dot(a.transpose()).toarray().flatten()"
   ]
  },
  {
   "cell_type": "code",
   "execution_count": 25,
   "metadata": {},
   "outputs": [],
   "source": [
    "# _test = train.groupby('userId').sample(frac=0.25)\n",
    "# _train = train[~train.index.isin(_test.index.values)]\n",
    "def skip_diag_strided(A):\n",
    "    m = A.shape[0]\n",
    "    strided = np.lib.stride_tricks.as_strided\n",
    "    s0,s1 = A.strides\n",
    "    return strided(A.ravel()[1:], shape=(m-1,m), strides=(s0+s1,s1)).reshape(m,-1)\n",
    "\n",
    "def remove_diag(x):\n",
    "    x_no_diag = np.ndarray.flatten(x)\n",
    "    x_no_diag = np.delete(x_no_diag, range(0, len(x_no_diag), len(x) + 1), 0)\n",
    "    x_no_diag = x_no_diag.reshape(len(x), len(x) - 1)\n",
    "    return x_no_diag"
   ]
  },
  {
   "cell_type": "code",
   "execution_count": 26,
   "metadata": {},
   "outputs": [],
   "source": [
    "mean_movie_rating_by_movie_id = train.groupby('movieId').rating.mean()"
   ]
  },
  {
   "cell_type": "code",
   "execution_count": 27,
   "metadata": {},
   "outputs": [
    {
     "output_type": "execute_result",
     "data": {
      "text/plain": [
       "          userId  movieId  rating\n",
       "0              1     8685     1.0\n",
       "1              1     2068     2.5\n",
       "2              1     7939     2.5\n",
       "3              1     7937     3.0\n",
       "4              1     4308     3.0\n",
       "...          ...      ...     ...\n",
       "15000052  162541     4079     NaN\n",
       "15000053  162541     4467     NaN\n",
       "15000054  162541     4980     NaN\n",
       "15000055  162541     5689     NaN\n",
       "15000056  162541     7153     NaN\n",
       "\n",
       "[15000057 rows x 3 columns]"
      ],
      "text/html": "<div>\n<style scoped>\n    .dataframe tbody tr th:only-of-type {\n        vertical-align: middle;\n    }\n\n    .dataframe tbody tr th {\n        vertical-align: top;\n    }\n\n    .dataframe thead th {\n        text-align: right;\n    }\n</style>\n<table border=\"1\" class=\"dataframe\">\n  <thead>\n    <tr style=\"text-align: right;\">\n      <th></th>\n      <th>userId</th>\n      <th>movieId</th>\n      <th>rating</th>\n    </tr>\n  </thead>\n  <tbody>\n    <tr>\n      <th>0</th>\n      <td>1</td>\n      <td>8685</td>\n      <td>1.0</td>\n    </tr>\n    <tr>\n      <th>1</th>\n      <td>1</td>\n      <td>2068</td>\n      <td>2.5</td>\n    </tr>\n    <tr>\n      <th>2</th>\n      <td>1</td>\n      <td>7939</td>\n      <td>2.5</td>\n    </tr>\n    <tr>\n      <th>3</th>\n      <td>1</td>\n      <td>7937</td>\n      <td>3.0</td>\n    </tr>\n    <tr>\n      <th>4</th>\n      <td>1</td>\n      <td>4308</td>\n      <td>3.0</td>\n    </tr>\n    <tr>\n      <th>...</th>\n      <td>...</td>\n      <td>...</td>\n      <td>...</td>\n    </tr>\n    <tr>\n      <th>15000052</th>\n      <td>162541</td>\n      <td>4079</td>\n      <td>NaN</td>\n    </tr>\n    <tr>\n      <th>15000053</th>\n      <td>162541</td>\n      <td>4467</td>\n      <td>NaN</td>\n    </tr>\n    <tr>\n      <th>15000054</th>\n      <td>162541</td>\n      <td>4980</td>\n      <td>NaN</td>\n    </tr>\n    <tr>\n      <th>15000055</th>\n      <td>162541</td>\n      <td>5689</td>\n      <td>NaN</td>\n    </tr>\n    <tr>\n      <th>15000056</th>\n      <td>162541</td>\n      <td>7153</td>\n      <td>NaN</td>\n    </tr>\n  </tbody>\n</table>\n<p>15000057 rows × 3 columns</p>\n</div>"
     },
     "metadata": {},
     "execution_count": 27
    }
   ],
   "source": [
    "combined_data = pd.concat([train, test])\n",
    "combined_data.drop(\"timestamp\", axis=1, inplace=True)\n",
    "combined_data.sort_values(['userId', 'rating'], inplace=True)\n",
    "combined_data.reset_index(inplace=True, drop=True)\n",
    "combined_data"
   ]
  },
  {
   "cell_type": "code",
   "execution_count": 28,
   "metadata": {
    "tags": []
   },
   "outputs": [],
   "source": [
    "from joblib import Parallel, delayed\n",
    "from multiprocessing import cpu_count\n",
    "\n",
    "def applyParallel(grouped, func):\n",
    "    results = Parallel(n_jobs=cpu_count())(delayed(func)(group) for _, group in grouped)\n",
    "    return pd.concat(results)"
   ]
  },
  {
   "cell_type": "code",
   "execution_count": 29,
   "metadata": {
    "tags": []
   },
   "outputs": [],
   "source": [
    "def predict_ratings(data):\n",
    "    history = data[data.rating.notna()]\n",
    "    to_predict = data[data.rating.isna()]\n",
    "\n",
    "    if len(history) == 1:\n",
    "        print(data.userId.unique())\n",
    "        mean_guesses = mean_movie_rating_by_movie_id.loc[to_predict.movieId.values].values\n",
    "        print(mean_guesses)\n",
    "        to_predict['pred'] = mean_guesses\n",
    "        return pd.concat([history, to_predict])\n",
    "\n",
    "    if len(to_predict) == 0:\n",
    "        return data\n",
    "\n",
    "    idxs = [mid_to_idx[i] for i in data.movieId]\n",
    "\n",
    "    historic_ratings = history.rating.values\n",
    "\n",
    "    similarity_matrix = remove_diag(cosine_similarity(norm_vecs[idxs, :]))\n",
    "    sim_matrix = similarity_matrix[len(history):, :len(history)]\n",
    "    \n",
    "    sim_totals = sim_matrix.sum(axis=1)\n",
    "    ratings = np.tile(history.rating, (len(to_predict.rating),1))\n",
    "    weighted_sums = np.einsum('ij,ij->i', sim_matrix, ratings)\n",
    "\n",
    "    to_predict['pred'] = weighted_sums / sim_totals\n",
    "    \n",
    "    return pd.concat([history, to_predict])"
   ]
  },
  {
   "cell_type": "code",
   "execution_count": 30,
   "metadata": {},
   "outputs": [
    {
     "output_type": "stream",
     "name": "stdout",
     "text": [
      "CPU times: user 2min 2s, sys: 17.7 s, total: 2min 20s\nWall time: 3min 24s\n"
     ]
    }
   ],
   "source": [
    "%%time\n",
    "parallel_preds = applyParallel(combined_data.groupby('userId'), predict_ratings)"
   ]
  },
  {
   "cell_type": "code",
   "execution_count": 31,
   "metadata": {},
   "outputs": [
    {
     "output_type": "stream",
     "name": "stdout",
     "text": [
      "[53640]\n",
      "[2.75215443 2.97679325 2.76315789 3.7418251  3.74937411]\n",
      "[55362]\n",
      "[4.2780728  4.04721613 4.31135496 4.12053043 4.04209353 4.15425312]\n",
      "[79087]\n",
      "[3.55076969 2.75755068 3.95141928 3.72488976 4.11325255 4.04466623\n",
      " 3.41178059 3.56951622 2.63598999 3.05463872 3.77619048]\n",
      "[105714]\n",
      "[3.06937584 3.99877072 3.89964607 3.60034752 3.81352541 3.97647059\n",
      " 3.75946283 3.51939351 3.33562823]\n",
      "[121071]\n",
      "[3.07925791 3.50635619 3.40513861 3.67543449 3.18970852 3.20113524\n",
      " 3.36215745 2.80259572 3.62929233]\n",
      "[127098]\n",
      "[3.99411938 3.51356327 3.09928385 2.95521511 3.66397244 4.41762359\n",
      " 3.32575679 3.70742183 4.14417199]\n",
      "CPU times: user 5min 30s, sys: 20.1 s, total: 5min 50s\n",
      "Wall time: 6min 36s\n"
     ]
    }
   ],
   "source": [
    "%%time\n",
    "predictions_serial = combined_data.groupby('userId').apply(predict_ratings)"
   ]
  },
  {
   "cell_type": "code",
   "execution_count": null,
   "metadata": {},
   "outputs": [],
   "source": [
    "predictions.reset_index(drop=True)"
   ]
  },
  {
   "cell_type": "code",
   "execution_count": null,
   "metadata": {},
   "outputs": [],
   "source": [
    "predictions[predictions.userId == 53640]"
   ]
  },
  {
   "cell_type": "code",
   "execution_count": null,
   "metadata": {},
   "outputs": [],
   "source": [
    "submission = predictions.copy()\n",
    "submission.drop(submission[submission.rating.notna()].index, inplace=True)\n",
    "submission[\"rating\"] = submission[\"pred\"]"
   ]
  },
  {
   "cell_type": "code",
   "execution_count": null,
   "metadata": {},
   "outputs": [],
   "source": [
    "submission['Id'] = submission.userId.astype(str) + '_' + submission.movieId.astype(str)"
   ]
  },
  {
   "cell_type": "code",
   "execution_count": null,
   "metadata": {},
   "outputs": [],
   "source": [
    "%%time \n",
    "submission[['Id', 'rating']].to_csv(\"submission.csv\", index=False, chunksize=100_000)"
   ]
  },
  {
   "cell_type": "code",
   "execution_count": null,
   "metadata": {},
   "outputs": [],
   "source": []
  }
 ]
}