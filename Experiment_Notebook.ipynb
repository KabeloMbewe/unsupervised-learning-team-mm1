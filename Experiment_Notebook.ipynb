{
 "metadata": {
  "orig_nbformat": 4,
  "kernelspec": {
   "name": "python3",
   "display_name": "Python 3.9.5 64-bit ('unsup_predict': conda)"
  },
  "interpreter": {
   "hash": "50b37eb35d55879b46f571aef5e85bb73790ee1370826879b0c77563c93e6dfb"
  },
  "language_info": {
   "name": "python",
   "version": "3.9.5"
  }
 },
 "nbformat": 4,
 "nbformat_minor": 2,
 "cells": [
  {
   "cell_type": "code",
   "execution_count": 2,
   "metadata": {},
   "outputs": [],
   "source": [
    "import pandas as pd\n",
    "import numpy as np\n",
    "import igraph as ig\n",
    "\n",
    "import plotly.express as px\n",
    "\n",
    "from matplotlib import pyplot as plt\n",
    "\n",
    "from helpers import flatten_list, applyParallel\n",
    "\n",
    "import nltk\n",
    "from nltk.corpus import stopwords"
   ]
  },
  {
   "cell_type": "code",
   "execution_count": 3,
   "metadata": {},
   "outputs": [],
   "source": [
    "random_state = 42\n",
    "stopwords = stopwords.words('english')"
   ]
  },
  {
   "cell_type": "code",
   "execution_count": 4,
   "metadata": {},
   "outputs": [],
   "source": [
    "genome_tag_vec = pd.read_csv(\"cleaned/genome_tag_vec.csv\")\n",
    "imdb_data = pd.read_csv(\"cleaned/imdb_data.csv\")\n",
    "movies = pd.read_csv(\"cleaned/movies.csv\")\n",
    "# tags = pd.read_csv(\"data/tags.csv\")\n",
    "test = pd.read_csv(\"data/test.csv\")\n",
    "train = pd.read_csv(\"data/train.csv\")"
   ]
  },
  {
   "cell_type": "code",
   "execution_count": 5,
   "metadata": {},
   "outputs": [
    {
     "output_type": "execute_result",
     "data": {
      "text/plain": [
       "   movieId      007  007 (series)  18th century    1920s    1930s    1950s  \\\n",
       "0        1  0.02875       0.02375       0.06250  0.07575  0.14075  0.14675   \n",
       "1        2  0.04125       0.04050       0.06275  0.08275  0.09100  0.06125   \n",
       "2        3  0.04675       0.05550       0.02925  0.08700  0.04750  0.04775   \n",
       "3        4  0.03425       0.03800       0.04050  0.03100  0.06500  0.03575   \n",
       "4        5  0.04300       0.05325       0.03800  0.04100  0.05400  0.06725   \n",
       "\n",
       "     1960s    1970s   1980s  ...  world politics  world war i  world war ii  \\\n",
       "0  0.06350  0.20375  0.2020  ...         0.04050      0.01425       0.03050   \n",
       "1  0.06925  0.09600  0.0765  ...         0.05250      0.01575       0.01250   \n",
       "2  0.04600  0.14275  0.0285  ...         0.06275      0.01950       0.02225   \n",
       "3  0.02900  0.08650  0.0320  ...         0.05325      0.02800       0.01675   \n",
       "4  0.02775  0.07650  0.0215  ...         0.05350      0.02050       0.01425   \n",
       "\n",
       "   writer's life  writers  writing    wuxia     wwii   zombie  zombies  \n",
       "0        0.03500  0.14125  0.05775  0.03900  0.02975  0.08475  0.02200  \n",
       "1        0.02000  0.12225  0.03275  0.02100  0.01100  0.10525  0.01975  \n",
       "2        0.02300  0.12200  0.03475  0.01700  0.01800  0.09100  0.01775  \n",
       "3        0.03875  0.18200  0.07050  0.01625  0.01425  0.08850  0.01500  \n",
       "4        0.02550  0.19225  0.02675  0.01625  0.01300  0.08700  0.01600  \n",
       "\n",
       "[5 rows x 1129 columns]"
      ],
      "text/html": "<div>\n<style scoped>\n    .dataframe tbody tr th:only-of-type {\n        vertical-align: middle;\n    }\n\n    .dataframe tbody tr th {\n        vertical-align: top;\n    }\n\n    .dataframe thead th {\n        text-align: right;\n    }\n</style>\n<table border=\"1\" class=\"dataframe\">\n  <thead>\n    <tr style=\"text-align: right;\">\n      <th></th>\n      <th>movieId</th>\n      <th>007</th>\n      <th>007 (series)</th>\n      <th>18th century</th>\n      <th>1920s</th>\n      <th>1930s</th>\n      <th>1950s</th>\n      <th>1960s</th>\n      <th>1970s</th>\n      <th>1980s</th>\n      <th>...</th>\n      <th>world politics</th>\n      <th>world war i</th>\n      <th>world war ii</th>\n      <th>writer's life</th>\n      <th>writers</th>\n      <th>writing</th>\n      <th>wuxia</th>\n      <th>wwii</th>\n      <th>zombie</th>\n      <th>zombies</th>\n    </tr>\n  </thead>\n  <tbody>\n    <tr>\n      <th>0</th>\n      <td>1</td>\n      <td>0.02875</td>\n      <td>0.02375</td>\n      <td>0.06250</td>\n      <td>0.07575</td>\n      <td>0.14075</td>\n      <td>0.14675</td>\n      <td>0.06350</td>\n      <td>0.20375</td>\n      <td>0.2020</td>\n      <td>...</td>\n      <td>0.04050</td>\n      <td>0.01425</td>\n      <td>0.03050</td>\n      <td>0.03500</td>\n      <td>0.14125</td>\n      <td>0.05775</td>\n      <td>0.03900</td>\n      <td>0.02975</td>\n      <td>0.08475</td>\n      <td>0.02200</td>\n    </tr>\n    <tr>\n      <th>1</th>\n      <td>2</td>\n      <td>0.04125</td>\n      <td>0.04050</td>\n      <td>0.06275</td>\n      <td>0.08275</td>\n      <td>0.09100</td>\n      <td>0.06125</td>\n      <td>0.06925</td>\n      <td>0.09600</td>\n      <td>0.0765</td>\n      <td>...</td>\n      <td>0.05250</td>\n      <td>0.01575</td>\n      <td>0.01250</td>\n      <td>0.02000</td>\n      <td>0.12225</td>\n      <td>0.03275</td>\n      <td>0.02100</td>\n      <td>0.01100</td>\n      <td>0.10525</td>\n      <td>0.01975</td>\n    </tr>\n    <tr>\n      <th>2</th>\n      <td>3</td>\n      <td>0.04675</td>\n      <td>0.05550</td>\n      <td>0.02925</td>\n      <td>0.08700</td>\n      <td>0.04750</td>\n      <td>0.04775</td>\n      <td>0.04600</td>\n      <td>0.14275</td>\n      <td>0.0285</td>\n      <td>...</td>\n      <td>0.06275</td>\n      <td>0.01950</td>\n      <td>0.02225</td>\n      <td>0.02300</td>\n      <td>0.12200</td>\n      <td>0.03475</td>\n      <td>0.01700</td>\n      <td>0.01800</td>\n      <td>0.09100</td>\n      <td>0.01775</td>\n    </tr>\n    <tr>\n      <th>3</th>\n      <td>4</td>\n      <td>0.03425</td>\n      <td>0.03800</td>\n      <td>0.04050</td>\n      <td>0.03100</td>\n      <td>0.06500</td>\n      <td>0.03575</td>\n      <td>0.02900</td>\n      <td>0.08650</td>\n      <td>0.0320</td>\n      <td>...</td>\n      <td>0.05325</td>\n      <td>0.02800</td>\n      <td>0.01675</td>\n      <td>0.03875</td>\n      <td>0.18200</td>\n      <td>0.07050</td>\n      <td>0.01625</td>\n      <td>0.01425</td>\n      <td>0.08850</td>\n      <td>0.01500</td>\n    </tr>\n    <tr>\n      <th>4</th>\n      <td>5</td>\n      <td>0.04300</td>\n      <td>0.05325</td>\n      <td>0.03800</td>\n      <td>0.04100</td>\n      <td>0.05400</td>\n      <td>0.06725</td>\n      <td>0.02775</td>\n      <td>0.07650</td>\n      <td>0.0215</td>\n      <td>...</td>\n      <td>0.05350</td>\n      <td>0.02050</td>\n      <td>0.01425</td>\n      <td>0.02550</td>\n      <td>0.19225</td>\n      <td>0.02675</td>\n      <td>0.01625</td>\n      <td>0.01300</td>\n      <td>0.08700</td>\n      <td>0.01600</td>\n    </tr>\n  </tbody>\n</table>\n<p>5 rows × 1129 columns</p>\n</div>"
     },
     "metadata": {},
     "execution_count": 5
    }
   ],
   "source": [
    "genome_tag_vec.head()"
   ]
  },
  {
   "cell_type": "code",
   "execution_count": 6,
   "metadata": {},
   "outputs": [
    {
     "output_type": "execute_result",
     "data": {
      "text/plain": [
       "   movieId                                         title_cast  \\\n",
       "0        1  Tom Hanks|Tim Allen|Don Rickles|Jim Varney|Wal...   \n",
       "1        2  Robin Williams|Jonathan Hyde|Kirsten Dunst|Bra...   \n",
       "2        3  Walter Matthau|Jack Lemmon|Sophia Loren|Ann-Ma...   \n",
       "3        4  Whitney Houston|Angela Bassett|Loretta Devine|...   \n",
       "4        5  Steve Martin|Diane Keaton|Martin Short|Kimberl...   \n",
       "\n",
       "              director  runtime      budget  \\\n",
       "0        John Lasseter     81.0  30000000.0   \n",
       "1   Jonathan Hensleigh    104.0  65000000.0   \n",
       "2  Mark Steven Johnson    101.0  25000000.0   \n",
       "3       Terry McMillan    124.0  16000000.0   \n",
       "4       Albert Hackett    106.0  30000000.0   \n",
       "\n",
       "                                       plot_keywords  \n",
       "0                   toy|rivalry|cowboy|cgi animation  \n",
       "1                   board game|adventurer|fight|game  \n",
       "2                         boat|lake|neighbor|rivalry  \n",
       "3  black american|husband wife relationship|betra...  \n",
       "4                    fatherhood|doberman|dog|mansion  "
      ],
      "text/html": "<div>\n<style scoped>\n    .dataframe tbody tr th:only-of-type {\n        vertical-align: middle;\n    }\n\n    .dataframe tbody tr th {\n        vertical-align: top;\n    }\n\n    .dataframe thead th {\n        text-align: right;\n    }\n</style>\n<table border=\"1\" class=\"dataframe\">\n  <thead>\n    <tr style=\"text-align: right;\">\n      <th></th>\n      <th>movieId</th>\n      <th>title_cast</th>\n      <th>director</th>\n      <th>runtime</th>\n      <th>budget</th>\n      <th>plot_keywords</th>\n    </tr>\n  </thead>\n  <tbody>\n    <tr>\n      <th>0</th>\n      <td>1</td>\n      <td>Tom Hanks|Tim Allen|Don Rickles|Jim Varney|Wal...</td>\n      <td>John Lasseter</td>\n      <td>81.0</td>\n      <td>30000000.0</td>\n      <td>toy|rivalry|cowboy|cgi animation</td>\n    </tr>\n    <tr>\n      <th>1</th>\n      <td>2</td>\n      <td>Robin Williams|Jonathan Hyde|Kirsten Dunst|Bra...</td>\n      <td>Jonathan Hensleigh</td>\n      <td>104.0</td>\n      <td>65000000.0</td>\n      <td>board game|adventurer|fight|game</td>\n    </tr>\n    <tr>\n      <th>2</th>\n      <td>3</td>\n      <td>Walter Matthau|Jack Lemmon|Sophia Loren|Ann-Ma...</td>\n      <td>Mark Steven Johnson</td>\n      <td>101.0</td>\n      <td>25000000.0</td>\n      <td>boat|lake|neighbor|rivalry</td>\n    </tr>\n    <tr>\n      <th>3</th>\n      <td>4</td>\n      <td>Whitney Houston|Angela Bassett|Loretta Devine|...</td>\n      <td>Terry McMillan</td>\n      <td>124.0</td>\n      <td>16000000.0</td>\n      <td>black american|husband wife relationship|betra...</td>\n    </tr>\n    <tr>\n      <th>4</th>\n      <td>5</td>\n      <td>Steve Martin|Diane Keaton|Martin Short|Kimberl...</td>\n      <td>Albert Hackett</td>\n      <td>106.0</td>\n      <td>30000000.0</td>\n      <td>fatherhood|doberman|dog|mansion</td>\n    </tr>\n  </tbody>\n</table>\n</div>"
     },
     "metadata": {},
     "execution_count": 6
    }
   ],
   "source": [
    "imdb_data.head()"
   ]
  },
  {
   "cell_type": "code",
   "execution_count": 7,
   "metadata": {},
   "outputs": [
    {
     "output_type": "execute_result",
     "data": {
      "text/plain": [
       "   movieId                         title  \\\n",
       "0        1                    Toy Story    \n",
       "1        2                      Jumanji    \n",
       "2        3             Grumpier Old Men    \n",
       "3        4            Waiting to Exhale    \n",
       "4        5  Father of the Bride Part II    \n",
       "\n",
       "                                        genres    year  \n",
       "0  Adventure|Animation|Children|Comedy|Fantasy  1995.0  \n",
       "1                   Adventure|Children|Fantasy  1995.0  \n",
       "2                               Comedy|Romance  1995.0  \n",
       "3                         Comedy|Drama|Romance  1995.0  \n",
       "4                                       Comedy  1995.0  "
      ],
      "text/html": "<div>\n<style scoped>\n    .dataframe tbody tr th:only-of-type {\n        vertical-align: middle;\n    }\n\n    .dataframe tbody tr th {\n        vertical-align: top;\n    }\n\n    .dataframe thead th {\n        text-align: right;\n    }\n</style>\n<table border=\"1\" class=\"dataframe\">\n  <thead>\n    <tr style=\"text-align: right;\">\n      <th></th>\n      <th>movieId</th>\n      <th>title</th>\n      <th>genres</th>\n      <th>year</th>\n    </tr>\n  </thead>\n  <tbody>\n    <tr>\n      <th>0</th>\n      <td>1</td>\n      <td>Toy Story</td>\n      <td>Adventure|Animation|Children|Comedy|Fantasy</td>\n      <td>1995.0</td>\n    </tr>\n    <tr>\n      <th>1</th>\n      <td>2</td>\n      <td>Jumanji</td>\n      <td>Adventure|Children|Fantasy</td>\n      <td>1995.0</td>\n    </tr>\n    <tr>\n      <th>2</th>\n      <td>3</td>\n      <td>Grumpier Old Men</td>\n      <td>Comedy|Romance</td>\n      <td>1995.0</td>\n    </tr>\n    <tr>\n      <th>3</th>\n      <td>4</td>\n      <td>Waiting to Exhale</td>\n      <td>Comedy|Drama|Romance</td>\n      <td>1995.0</td>\n    </tr>\n    <tr>\n      <th>4</th>\n      <td>5</td>\n      <td>Father of the Bride Part II</td>\n      <td>Comedy</td>\n      <td>1995.0</td>\n    </tr>\n  </tbody>\n</table>\n</div>"
     },
     "metadata": {},
     "execution_count": 7
    }
   ],
   "source": [
    "movies.head()"
   ]
  },
  {
   "cell_type": "code",
   "execution_count": 8,
   "metadata": {},
   "outputs": [],
   "source": [
    "# tags.head()"
   ]
  },
  {
   "cell_type": "code",
   "execution_count": 9,
   "metadata": {},
   "outputs": [
    {
     "output_type": "execute_result",
     "data": {
      "text/plain": [
       "   userId  movieId\n",
       "0       1     2011\n",
       "1       1     4144\n",
       "2       1     5767\n",
       "3       1     6711\n",
       "4       1     7318"
      ],
      "text/html": "<div>\n<style scoped>\n    .dataframe tbody tr th:only-of-type {\n        vertical-align: middle;\n    }\n\n    .dataframe tbody tr th {\n        vertical-align: top;\n    }\n\n    .dataframe thead th {\n        text-align: right;\n    }\n</style>\n<table border=\"1\" class=\"dataframe\">\n  <thead>\n    <tr style=\"text-align: right;\">\n      <th></th>\n      <th>userId</th>\n      <th>movieId</th>\n    </tr>\n  </thead>\n  <tbody>\n    <tr>\n      <th>0</th>\n      <td>1</td>\n      <td>2011</td>\n    </tr>\n    <tr>\n      <th>1</th>\n      <td>1</td>\n      <td>4144</td>\n    </tr>\n    <tr>\n      <th>2</th>\n      <td>1</td>\n      <td>5767</td>\n    </tr>\n    <tr>\n      <th>3</th>\n      <td>1</td>\n      <td>6711</td>\n    </tr>\n    <tr>\n      <th>4</th>\n      <td>1</td>\n      <td>7318</td>\n    </tr>\n  </tbody>\n</table>\n</div>"
     },
     "metadata": {},
     "execution_count": 9
    }
   ],
   "source": [
    "test.head()"
   ]
  },
  {
   "cell_type": "code",
   "execution_count": 10,
   "metadata": {},
   "outputs": [
    {
     "output_type": "execute_result",
     "data": {
      "text/plain": [
       "   userId  movieId  rating   timestamp\n",
       "0    5163    57669     4.0  1518349992\n",
       "1  106343        5     4.5  1206238739\n",
       "2  146790     5459     5.0  1076215539\n",
       "3  106362    32296     2.0  1423042565\n",
       "4    9041      366     3.0   833375837"
      ],
      "text/html": "<div>\n<style scoped>\n    .dataframe tbody tr th:only-of-type {\n        vertical-align: middle;\n    }\n\n    .dataframe tbody tr th {\n        vertical-align: top;\n    }\n\n    .dataframe thead th {\n        text-align: right;\n    }\n</style>\n<table border=\"1\" class=\"dataframe\">\n  <thead>\n    <tr style=\"text-align: right;\">\n      <th></th>\n      <th>userId</th>\n      <th>movieId</th>\n      <th>rating</th>\n      <th>timestamp</th>\n    </tr>\n  </thead>\n  <tbody>\n    <tr>\n      <th>0</th>\n      <td>5163</td>\n      <td>57669</td>\n      <td>4.0</td>\n      <td>1518349992</td>\n    </tr>\n    <tr>\n      <th>1</th>\n      <td>106343</td>\n      <td>5</td>\n      <td>4.5</td>\n      <td>1206238739</td>\n    </tr>\n    <tr>\n      <th>2</th>\n      <td>146790</td>\n      <td>5459</td>\n      <td>5.0</td>\n      <td>1076215539</td>\n    </tr>\n    <tr>\n      <th>3</th>\n      <td>106362</td>\n      <td>32296</td>\n      <td>2.0</td>\n      <td>1423042565</td>\n    </tr>\n    <tr>\n      <th>4</th>\n      <td>9041</td>\n      <td>366</td>\n      <td>3.0</td>\n      <td>833375837</td>\n    </tr>\n  </tbody>\n</table>\n</div>"
     },
     "metadata": {},
     "execution_count": 10
    }
   ],
   "source": [
    "train.head()"
   ]
  },
  {
   "cell_type": "code",
   "execution_count": 12,
   "metadata": {},
   "outputs": [
    {
     "output_type": "execute_result",
     "data": {
      "text/plain": [
       "1.0611240700473945"
      ]
     },
     "metadata": {},
     "execution_count": 12
    }
   ],
   "source": [
    "train.rating.std()"
   ]
  },
  {
   "cell_type": "code",
   "execution_count": 10,
   "metadata": {},
   "outputs": [
    {
     "output_type": "display_data",
     "data": {
      "application/vnd.plotly.v1+json": {
       "config": {
        "plotlyServerURL": "https://plot.ly"
       },
       "data": [
        {
         "alignmentgroup": "True",
         "hovertemplate": "index=%{marker.color}<br>value=%{y}<extra></extra>",
         "legendgroup": "",
         "marker": {
          "color": [
           4,
           3,
           5,
           3.5,
           4.5,
           2,
           2.5,
           1,
           1.5,
           0.5
          ],
          "coloraxis": "coloraxis",
          "pattern": {
           "shape": ""
          }
         },
         "name": "",
         "offsetgroup": "",
         "orientation": "v",
         "showlegend": false,
         "textposition": "auto",
         "type": "bar",
         "x": [
          4,
          3,
          5,
          3.5,
          4.5,
          2,
          2.5,
          1,
          1.5,
          0.5
         ],
         "xaxis": "x",
         "y": [
          0.2652966918725709,
          0.19597515529440987,
          0.1445224508146869,
          0.1270637171578748,
          0.08805126540519145,
          0.06568185040896844,
          0.05055760788109005,
          0.03112118173950939,
          0.01597303930245065,
          0.01575704012324753
         ],
         "yaxis": "y"
        }
       ],
       "layout": {
        "barmode": "relative",
        "coloraxis": {
         "colorbar": {
          "title": {
           "text": "index"
          }
         },
         "colorscale": [
          [
           0,
           "#0d0887"
          ],
          [
           0.1111111111111111,
           "#46039f"
          ],
          [
           0.2222222222222222,
           "#7201a8"
          ],
          [
           0.3333333333333333,
           "#9c179e"
          ],
          [
           0.4444444444444444,
           "#bd3786"
          ],
          [
           0.5555555555555556,
           "#d8576b"
          ],
          [
           0.6666666666666666,
           "#ed7953"
          ],
          [
           0.7777777777777778,
           "#fb9f3a"
          ],
          [
           0.8888888888888888,
           "#fdca26"
          ],
          [
           1,
           "#f0f921"
          ]
         ]
        },
        "legend": {
         "tracegroupgap": 0
        },
        "margin": {
         "t": 60
        },
        "template": {
         "data": {
          "bar": [
           {
            "error_x": {
             "color": "#2a3f5f"
            },
            "error_y": {
             "color": "#2a3f5f"
            },
            "marker": {
             "line": {
              "color": "#E5ECF6",
              "width": 0.5
             },
             "pattern": {
              "fillmode": "overlay",
              "size": 10,
              "solidity": 0.2
             }
            },
            "type": "bar"
           }
          ],
          "barpolar": [
           {
            "marker": {
             "line": {
              "color": "#E5ECF6",
              "width": 0.5
             },
             "pattern": {
              "fillmode": "overlay",
              "size": 10,
              "solidity": 0.2
             }
            },
            "type": "barpolar"
           }
          ],
          "carpet": [
           {
            "aaxis": {
             "endlinecolor": "#2a3f5f",
             "gridcolor": "white",
             "linecolor": "white",
             "minorgridcolor": "white",
             "startlinecolor": "#2a3f5f"
            },
            "baxis": {
             "endlinecolor": "#2a3f5f",
             "gridcolor": "white",
             "linecolor": "white",
             "minorgridcolor": "white",
             "startlinecolor": "#2a3f5f"
            },
            "type": "carpet"
           }
          ],
          "choropleth": [
           {
            "colorbar": {
             "outlinewidth": 0,
             "ticks": ""
            },
            "type": "choropleth"
           }
          ],
          "contour": [
           {
            "colorbar": {
             "outlinewidth": 0,
             "ticks": ""
            },
            "colorscale": [
             [
              0,
              "#0d0887"
             ],
             [
              0.1111111111111111,
              "#46039f"
             ],
             [
              0.2222222222222222,
              "#7201a8"
             ],
             [
              0.3333333333333333,
              "#9c179e"
             ],
             [
              0.4444444444444444,
              "#bd3786"
             ],
             [
              0.5555555555555556,
              "#d8576b"
             ],
             [
              0.6666666666666666,
              "#ed7953"
             ],
             [
              0.7777777777777778,
              "#fb9f3a"
             ],
             [
              0.8888888888888888,
              "#fdca26"
             ],
             [
              1,
              "#f0f921"
             ]
            ],
            "type": "contour"
           }
          ],
          "contourcarpet": [
           {
            "colorbar": {
             "outlinewidth": 0,
             "ticks": ""
            },
            "type": "contourcarpet"
           }
          ],
          "heatmap": [
           {
            "colorbar": {
             "outlinewidth": 0,
             "ticks": ""
            },
            "colorscale": [
             [
              0,
              "#0d0887"
             ],
             [
              0.1111111111111111,
              "#46039f"
             ],
             [
              0.2222222222222222,
              "#7201a8"
             ],
             [
              0.3333333333333333,
              "#9c179e"
             ],
             [
              0.4444444444444444,
              "#bd3786"
             ],
             [
              0.5555555555555556,
              "#d8576b"
             ],
             [
              0.6666666666666666,
              "#ed7953"
             ],
             [
              0.7777777777777778,
              "#fb9f3a"
             ],
             [
              0.8888888888888888,
              "#fdca26"
             ],
             [
              1,
              "#f0f921"
             ]
            ],
            "type": "heatmap"
           }
          ],
          "heatmapgl": [
           {
            "colorbar": {
             "outlinewidth": 0,
             "ticks": ""
            },
            "colorscale": [
             [
              0,
              "#0d0887"
             ],
             [
              0.1111111111111111,
              "#46039f"
             ],
             [
              0.2222222222222222,
              "#7201a8"
             ],
             [
              0.3333333333333333,
              "#9c179e"
             ],
             [
              0.4444444444444444,
              "#bd3786"
             ],
             [
              0.5555555555555556,
              "#d8576b"
             ],
             [
              0.6666666666666666,
              "#ed7953"
             ],
             [
              0.7777777777777778,
              "#fb9f3a"
             ],
             [
              0.8888888888888888,
              "#fdca26"
             ],
             [
              1,
              "#f0f921"
             ]
            ],
            "type": "heatmapgl"
           }
          ],
          "histogram": [
           {
            "marker": {
             "pattern": {
              "fillmode": "overlay",
              "size": 10,
              "solidity": 0.2
             }
            },
            "type": "histogram"
           }
          ],
          "histogram2d": [
           {
            "colorbar": {
             "outlinewidth": 0,
             "ticks": ""
            },
            "colorscale": [
             [
              0,
              "#0d0887"
             ],
             [
              0.1111111111111111,
              "#46039f"
             ],
             [
              0.2222222222222222,
              "#7201a8"
             ],
             [
              0.3333333333333333,
              "#9c179e"
             ],
             [
              0.4444444444444444,
              "#bd3786"
             ],
             [
              0.5555555555555556,
              "#d8576b"
             ],
             [
              0.6666666666666666,
              "#ed7953"
             ],
             [
              0.7777777777777778,
              "#fb9f3a"
             ],
             [
              0.8888888888888888,
              "#fdca26"
             ],
             [
              1,
              "#f0f921"
             ]
            ],
            "type": "histogram2d"
           }
          ],
          "histogram2dcontour": [
           {
            "colorbar": {
             "outlinewidth": 0,
             "ticks": ""
            },
            "colorscale": [
             [
              0,
              "#0d0887"
             ],
             [
              0.1111111111111111,
              "#46039f"
             ],
             [
              0.2222222222222222,
              "#7201a8"
             ],
             [
              0.3333333333333333,
              "#9c179e"
             ],
             [
              0.4444444444444444,
              "#bd3786"
             ],
             [
              0.5555555555555556,
              "#d8576b"
             ],
             [
              0.6666666666666666,
              "#ed7953"
             ],
             [
              0.7777777777777778,
              "#fb9f3a"
             ],
             [
              0.8888888888888888,
              "#fdca26"
             ],
             [
              1,
              "#f0f921"
             ]
            ],
            "type": "histogram2dcontour"
           }
          ],
          "mesh3d": [
           {
            "colorbar": {
             "outlinewidth": 0,
             "ticks": ""
            },
            "type": "mesh3d"
           }
          ],
          "parcoords": [
           {
            "line": {
             "colorbar": {
              "outlinewidth": 0,
              "ticks": ""
             }
            },
            "type": "parcoords"
           }
          ],
          "pie": [
           {
            "automargin": true,
            "type": "pie"
           }
          ],
          "scatter": [
           {
            "marker": {
             "colorbar": {
              "outlinewidth": 0,
              "ticks": ""
             }
            },
            "type": "scatter"
           }
          ],
          "scatter3d": [
           {
            "line": {
             "colorbar": {
              "outlinewidth": 0,
              "ticks": ""
             }
            },
            "marker": {
             "colorbar": {
              "outlinewidth": 0,
              "ticks": ""
             }
            },
            "type": "scatter3d"
           }
          ],
          "scattercarpet": [
           {
            "marker": {
             "colorbar": {
              "outlinewidth": 0,
              "ticks": ""
             }
            },
            "type": "scattercarpet"
           }
          ],
          "scattergeo": [
           {
            "marker": {
             "colorbar": {
              "outlinewidth": 0,
              "ticks": ""
             }
            },
            "type": "scattergeo"
           }
          ],
          "scattergl": [
           {
            "marker": {
             "colorbar": {
              "outlinewidth": 0,
              "ticks": ""
             }
            },
            "type": "scattergl"
           }
          ],
          "scattermapbox": [
           {
            "marker": {
             "colorbar": {
              "outlinewidth": 0,
              "ticks": ""
             }
            },
            "type": "scattermapbox"
           }
          ],
          "scatterpolar": [
           {
            "marker": {
             "colorbar": {
              "outlinewidth": 0,
              "ticks": ""
             }
            },
            "type": "scatterpolar"
           }
          ],
          "scatterpolargl": [
           {
            "marker": {
             "colorbar": {
              "outlinewidth": 0,
              "ticks": ""
             }
            },
            "type": "scatterpolargl"
           }
          ],
          "scatterternary": [
           {
            "marker": {
             "colorbar": {
              "outlinewidth": 0,
              "ticks": ""
             }
            },
            "type": "scatterternary"
           }
          ],
          "surface": [
           {
            "colorbar": {
             "outlinewidth": 0,
             "ticks": ""
            },
            "colorscale": [
             [
              0,
              "#0d0887"
             ],
             [
              0.1111111111111111,
              "#46039f"
             ],
             [
              0.2222222222222222,
              "#7201a8"
             ],
             [
              0.3333333333333333,
              "#9c179e"
             ],
             [
              0.4444444444444444,
              "#bd3786"
             ],
             [
              0.5555555555555556,
              "#d8576b"
             ],
             [
              0.6666666666666666,
              "#ed7953"
             ],
             [
              0.7777777777777778,
              "#fb9f3a"
             ],
             [
              0.8888888888888888,
              "#fdca26"
             ],
             [
              1,
              "#f0f921"
             ]
            ],
            "type": "surface"
           }
          ],
          "table": [
           {
            "cells": {
             "fill": {
              "color": "#EBF0F8"
             },
             "line": {
              "color": "white"
             }
            },
            "header": {
             "fill": {
              "color": "#C8D4E3"
             },
             "line": {
              "color": "white"
             }
            },
            "type": "table"
           }
          ]
         },
         "layout": {
          "annotationdefaults": {
           "arrowcolor": "#2a3f5f",
           "arrowhead": 0,
           "arrowwidth": 1
          },
          "autotypenumbers": "strict",
          "coloraxis": {
           "colorbar": {
            "outlinewidth": 0,
            "ticks": ""
           }
          },
          "colorscale": {
           "diverging": [
            [
             0,
             "#8e0152"
            ],
            [
             0.1,
             "#c51b7d"
            ],
            [
             0.2,
             "#de77ae"
            ],
            [
             0.3,
             "#f1b6da"
            ],
            [
             0.4,
             "#fde0ef"
            ],
            [
             0.5,
             "#f7f7f7"
            ],
            [
             0.6,
             "#e6f5d0"
            ],
            [
             0.7,
             "#b8e186"
            ],
            [
             0.8,
             "#7fbc41"
            ],
            [
             0.9,
             "#4d9221"
            ],
            [
             1,
             "#276419"
            ]
           ],
           "sequential": [
            [
             0,
             "#0d0887"
            ],
            [
             0.1111111111111111,
             "#46039f"
            ],
            [
             0.2222222222222222,
             "#7201a8"
            ],
            [
             0.3333333333333333,
             "#9c179e"
            ],
            [
             0.4444444444444444,
             "#bd3786"
            ],
            [
             0.5555555555555556,
             "#d8576b"
            ],
            [
             0.6666666666666666,
             "#ed7953"
            ],
            [
             0.7777777777777778,
             "#fb9f3a"
            ],
            [
             0.8888888888888888,
             "#fdca26"
            ],
            [
             1,
             "#f0f921"
            ]
           ],
           "sequentialminus": [
            [
             0,
             "#0d0887"
            ],
            [
             0.1111111111111111,
             "#46039f"
            ],
            [
             0.2222222222222222,
             "#7201a8"
            ],
            [
             0.3333333333333333,
             "#9c179e"
            ],
            [
             0.4444444444444444,
             "#bd3786"
            ],
            [
             0.5555555555555556,
             "#d8576b"
            ],
            [
             0.6666666666666666,
             "#ed7953"
            ],
            [
             0.7777777777777778,
             "#fb9f3a"
            ],
            [
             0.8888888888888888,
             "#fdca26"
            ],
            [
             1,
             "#f0f921"
            ]
           ]
          },
          "colorway": [
           "#636efa",
           "#EF553B",
           "#00cc96",
           "#ab63fa",
           "#FFA15A",
           "#19d3f3",
           "#FF6692",
           "#B6E880",
           "#FF97FF",
           "#FECB52"
          ],
          "font": {
           "color": "#2a3f5f"
          },
          "geo": {
           "bgcolor": "white",
           "lakecolor": "white",
           "landcolor": "#E5ECF6",
           "showlakes": true,
           "showland": true,
           "subunitcolor": "white"
          },
          "hoverlabel": {
           "align": "left"
          },
          "hovermode": "closest",
          "mapbox": {
           "style": "light"
          },
          "paper_bgcolor": "white",
          "plot_bgcolor": "#E5ECF6",
          "polar": {
           "angularaxis": {
            "gridcolor": "white",
            "linecolor": "white",
            "ticks": ""
           },
           "bgcolor": "#E5ECF6",
           "radialaxis": {
            "gridcolor": "white",
            "linecolor": "white",
            "ticks": ""
           }
          },
          "scene": {
           "xaxis": {
            "backgroundcolor": "#E5ECF6",
            "gridcolor": "white",
            "gridwidth": 2,
            "linecolor": "white",
            "showbackground": true,
            "ticks": "",
            "zerolinecolor": "white"
           },
           "yaxis": {
            "backgroundcolor": "#E5ECF6",
            "gridcolor": "white",
            "gridwidth": 2,
            "linecolor": "white",
            "showbackground": true,
            "ticks": "",
            "zerolinecolor": "white"
           },
           "zaxis": {
            "backgroundcolor": "#E5ECF6",
            "gridcolor": "white",
            "gridwidth": 2,
            "linecolor": "white",
            "showbackground": true,
            "ticks": "",
            "zerolinecolor": "white"
           }
          },
          "shapedefaults": {
           "line": {
            "color": "#2a3f5f"
           }
          },
          "ternary": {
           "aaxis": {
            "gridcolor": "white",
            "linecolor": "white",
            "ticks": ""
           },
           "baxis": {
            "gridcolor": "white",
            "linecolor": "white",
            "ticks": ""
           },
           "bgcolor": "#E5ECF6",
           "caxis": {
            "gridcolor": "white",
            "linecolor": "white",
            "ticks": ""
           }
          },
          "title": {
           "x": 0.05
          },
          "xaxis": {
           "automargin": true,
           "gridcolor": "white",
           "linecolor": "white",
           "ticks": "",
           "title": {
            "standoff": 15
           },
           "zerolinecolor": "white",
           "zerolinewidth": 2
          },
          "yaxis": {
           "automargin": true,
           "gridcolor": "white",
           "linecolor": "white",
           "ticks": "",
           "title": {
            "standoff": 15
           },
           "zerolinecolor": "white",
           "zerolinewidth": 2
          }
         }
        },
        "xaxis": {
         "anchor": "y",
         "domain": [
          0,
          1
         ],
         "title": {
          "text": "index"
         }
        },
        "yaxis": {
         "anchor": "x",
         "domain": [
          0,
          1
         ],
         "title": {
          "text": "value"
         }
        }
       }
      }
     },
     "metadata": {}
    }
   ],
   "source": [
    "distrib = train.rating.value_counts(normalize=True)\n",
    "\n",
    "fig = px.bar(distrib, color=distrib.index)\n",
    "\n",
    "fig.show()"
   ]
  },
  {
   "cell_type": "code",
   "execution_count": 11,
   "metadata": {},
   "outputs": [],
   "source": [
    "from sklearn.feature_extraction.text import TfidfVectorizer, CountVectorizer\n",
    "from sklearn.preprocessing import OneHotEncoder, Normalizer, StandardScaler, MinMaxScaler, RobustScaler\n",
    "\n",
    "from sklearn.metrics.pairwise import cosine_similarity\n",
    "\n",
    "from scipy import sparse\n",
    "\n",
    "from sklearn.decomposition import TruncatedSVD\n",
    "\n",
    "from sklearn.cluster import KMeans"
   ]
  },
  {
   "cell_type": "code",
   "execution_count": 12,
   "metadata": {},
   "outputs": [
    {
     "output_type": "execute_result",
     "data": {
      "text/plain": [
       "                         title                                       genres  \\\n",
       "0                    Toy Story  Adventure|Animation|Children|Comedy|Fantasy   \n",
       "1                      Jumanji                   Adventure|Children|Fantasy   \n",
       "2             Grumpier Old Men                               Comedy|Romance   \n",
       "3            Waiting to Exhale                         Comedy|Drama|Romance   \n",
       "4  Father of the Bride Part II                                       Comedy   \n",
       "\n",
       "     year                                         title_cast  \\\n",
       "0  1995.0  Tom Hanks|Tim Allen|Don Rickles|Jim Varney|Wal...   \n",
       "1  1995.0  Robin Williams|Jonathan Hyde|Kirsten Dunst|Bra...   \n",
       "2  1995.0  Walter Matthau|Jack Lemmon|Sophia Loren|Ann-Ma...   \n",
       "3  1995.0  Whitney Houston|Angela Bassett|Loretta Devine|...   \n",
       "4  1995.0  Steve Martin|Diane Keaton|Martin Short|Kimberl...   \n",
       "\n",
       "              director  runtime      budget  \\\n",
       "0        John Lasseter     81.0  30000000.0   \n",
       "1   Jonathan Hensleigh    104.0  65000000.0   \n",
       "2  Mark Steven Johnson    101.0  25000000.0   \n",
       "3       Terry McMillan    124.0  16000000.0   \n",
       "4       Albert Hackett    106.0  30000000.0   \n",
       "\n",
       "                                       plot_keywords      007  007 (series)  \\\n",
       "0                   toy|rivalry|cowboy|cgi animation  0.02875       0.02375   \n",
       "1                   board game|adventurer|fight|game  0.04125       0.04050   \n",
       "2                         boat|lake|neighbor|rivalry  0.04675       0.05550   \n",
       "3  black american|husband wife relationship|betra...  0.03425       0.03800   \n",
       "4                    fatherhood|doberman|dog|mansion  0.04300       0.05325   \n",
       "\n",
       "   ...     wwii   zombie  zombies  cast_size  genre_count  rating_mean  \\\n",
       "0  ...  0.02975  0.08475  0.02200         15            5     3.889971   \n",
       "1  ...  0.01100  0.10525  0.01975         15            3     3.263414   \n",
       "2  ...  0.01800  0.09100  0.01775         15            2     3.132325   \n",
       "3  ...  0.01425  0.08850  0.01500         15            3     2.878099   \n",
       "4  ...  0.01300  0.08700  0.01600         15            1     3.059165   \n",
       "\n",
       "   rating_std  rating_iqr  rating_count  movieId  \n",
       "0    0.924249         1.0       23062.0        1  \n",
       "1    0.966744         1.0        9654.0        2  \n",
       "2    1.016368         1.0        4727.0        3  \n",
       "3    1.073617         2.0         968.0        4  \n",
       "4    0.995982         1.5        4648.0        5  \n",
       "\n",
       "[5 rows x 1143 columns]"
      ],
      "text/html": "<div>\n<style scoped>\n    .dataframe tbody tr th:only-of-type {\n        vertical-align: middle;\n    }\n\n    .dataframe tbody tr th {\n        vertical-align: top;\n    }\n\n    .dataframe thead th {\n        text-align: right;\n    }\n</style>\n<table border=\"1\" class=\"dataframe\">\n  <thead>\n    <tr style=\"text-align: right;\">\n      <th></th>\n      <th>title</th>\n      <th>genres</th>\n      <th>year</th>\n      <th>title_cast</th>\n      <th>director</th>\n      <th>runtime</th>\n      <th>budget</th>\n      <th>plot_keywords</th>\n      <th>007</th>\n      <th>007 (series)</th>\n      <th>...</th>\n      <th>wwii</th>\n      <th>zombie</th>\n      <th>zombies</th>\n      <th>cast_size</th>\n      <th>genre_count</th>\n      <th>rating_mean</th>\n      <th>rating_std</th>\n      <th>rating_iqr</th>\n      <th>rating_count</th>\n      <th>movieId</th>\n    </tr>\n  </thead>\n  <tbody>\n    <tr>\n      <th>0</th>\n      <td>Toy Story</td>\n      <td>Adventure|Animation|Children|Comedy|Fantasy</td>\n      <td>1995.0</td>\n      <td>Tom Hanks|Tim Allen|Don Rickles|Jim Varney|Wal...</td>\n      <td>John Lasseter</td>\n      <td>81.0</td>\n      <td>30000000.0</td>\n      <td>toy|rivalry|cowboy|cgi animation</td>\n      <td>0.02875</td>\n      <td>0.02375</td>\n      <td>...</td>\n      <td>0.02975</td>\n      <td>0.08475</td>\n      <td>0.02200</td>\n      <td>15</td>\n      <td>5</td>\n      <td>3.889971</td>\n      <td>0.924249</td>\n      <td>1.0</td>\n      <td>23062.0</td>\n      <td>1</td>\n    </tr>\n    <tr>\n      <th>1</th>\n      <td>Jumanji</td>\n      <td>Adventure|Children|Fantasy</td>\n      <td>1995.0</td>\n      <td>Robin Williams|Jonathan Hyde|Kirsten Dunst|Bra...</td>\n      <td>Jonathan Hensleigh</td>\n      <td>104.0</td>\n      <td>65000000.0</td>\n      <td>board game|adventurer|fight|game</td>\n      <td>0.04125</td>\n      <td>0.04050</td>\n      <td>...</td>\n      <td>0.01100</td>\n      <td>0.10525</td>\n      <td>0.01975</td>\n      <td>15</td>\n      <td>3</td>\n      <td>3.263414</td>\n      <td>0.966744</td>\n      <td>1.0</td>\n      <td>9654.0</td>\n      <td>2</td>\n    </tr>\n    <tr>\n      <th>2</th>\n      <td>Grumpier Old Men</td>\n      <td>Comedy|Romance</td>\n      <td>1995.0</td>\n      <td>Walter Matthau|Jack Lemmon|Sophia Loren|Ann-Ma...</td>\n      <td>Mark Steven Johnson</td>\n      <td>101.0</td>\n      <td>25000000.0</td>\n      <td>boat|lake|neighbor|rivalry</td>\n      <td>0.04675</td>\n      <td>0.05550</td>\n      <td>...</td>\n      <td>0.01800</td>\n      <td>0.09100</td>\n      <td>0.01775</td>\n      <td>15</td>\n      <td>2</td>\n      <td>3.132325</td>\n      <td>1.016368</td>\n      <td>1.0</td>\n      <td>4727.0</td>\n      <td>3</td>\n    </tr>\n    <tr>\n      <th>3</th>\n      <td>Waiting to Exhale</td>\n      <td>Comedy|Drama|Romance</td>\n      <td>1995.0</td>\n      <td>Whitney Houston|Angela Bassett|Loretta Devine|...</td>\n      <td>Terry McMillan</td>\n      <td>124.0</td>\n      <td>16000000.0</td>\n      <td>black american|husband wife relationship|betra...</td>\n      <td>0.03425</td>\n      <td>0.03800</td>\n      <td>...</td>\n      <td>0.01425</td>\n      <td>0.08850</td>\n      <td>0.01500</td>\n      <td>15</td>\n      <td>3</td>\n      <td>2.878099</td>\n      <td>1.073617</td>\n      <td>2.0</td>\n      <td>968.0</td>\n      <td>4</td>\n    </tr>\n    <tr>\n      <th>4</th>\n      <td>Father of the Bride Part II</td>\n      <td>Comedy</td>\n      <td>1995.0</td>\n      <td>Steve Martin|Diane Keaton|Martin Short|Kimberl...</td>\n      <td>Albert Hackett</td>\n      <td>106.0</td>\n      <td>30000000.0</td>\n      <td>fatherhood|doberman|dog|mansion</td>\n      <td>0.04300</td>\n      <td>0.05325</td>\n      <td>...</td>\n      <td>0.01300</td>\n      <td>0.08700</td>\n      <td>0.01600</td>\n      <td>15</td>\n      <td>1</td>\n      <td>3.059165</td>\n      <td>0.995982</td>\n      <td>1.5</td>\n      <td>4648.0</td>\n      <td>5</td>\n    </tr>\n  </tbody>\n</table>\n<p>5 rows × 1143 columns</p>\n</div>"
     },
     "metadata": {},
     "execution_count": 12
    }
   ],
   "source": [
    "full_combine = (\n",
    "    movies\n",
    "    .merge(imdb_data,      on=\"movieId\", how=\"left\")\n",
    "    .merge(genome_tag_vec, on=\"movieId\", how=\"left\")\n",
    "    .set_index(\"movieId\", drop=True)\n",
    ")\n",
    "\n",
    "normal_year_mean = full_combine[full_combine.year != 0].year.mean()\n",
    "full_combine['year'].replace(0, normal_year_mean, inplace=True)\n",
    "\n",
    "# movies.year.fillna(int(movies.year.median()), inplace=True)\n",
    "# movies.genres.fillna(\"<unknown>\", inplace=True)\n",
    "full_combine.title = full_combine.title.str.strip().str.replace(r\"(.*), The$\", r\"The \\1\", regex=True)\n",
    "full_combine.title_cast.fillna(\"\", inplace=True)\n",
    "full_combine.director.fillna(\"\", inplace=True)\n",
    "full_combine.runtime.fillna(int(full_combine.runtime.median()), inplace=True)\n",
    "full_combine.budget.fillna(int(full_combine.budget.median()), inplace=True)\n",
    "full_combine.plot_keywords.fillna(\"\", inplace=True)\n",
    "\n",
    "full_combine['cast_size'] = full_combine.title_cast.str.split('|').apply(len)\n",
    "full_combine['genre_count'] = full_combine.genres.str.split('|').apply(len)\n",
    "\n",
    "movie_groups = train.set_index('movieId', drop=True).groupby('movieId')\n",
    "full_combine['rating_mean'] = movie_groups.rating.mean()\n",
    "full_combine['rating_std'] = movie_groups.rating.std().fillna(0)\n",
    "\n",
    "q3 = movie_groups.rating.quantile(0.75)\n",
    "q1 = movie_groups.rating.quantile(0.25)\n",
    "\n",
    "full_combine['rating_iqr'] =  q3 - q1\n",
    "full_combine['rating_count'] = movie_groups.apply(len)\n",
    "\n",
    "full_combine.fillna(0, inplace=True)\n",
    "\n",
    "full_combine['movieId'] = full_combine.index.values\n",
    "full_combine.reset_index(inplace=True, drop=True)\n",
    "full_combine.head()"
   ]
  },
  {
   "cell_type": "code",
   "execution_count": 13,
   "metadata": {},
   "outputs": [
    {
     "output_type": "execute_result",
     "data": {
      "text/plain": [
       "Index(['title', 'genres', 'year', 'title_cast', 'director', 'runtime',\n",
       "       'budget', 'plot_keywords', '007', '007 (series)',\n",
       "       ...\n",
       "       'wwii', 'zombie', 'zombies', 'cast_size', 'genre_count', 'rating_mean',\n",
       "       'rating_std', 'rating_iqr', 'rating_count', 'movieId'],\n",
       "      dtype='object', length=1143)"
      ]
     },
     "metadata": {},
     "execution_count": 13
    }
   ],
   "source": [
    "features = []\n",
    "full_combine.columns"
   ]
  },
  {
   "cell_type": "code",
   "execution_count": 14,
   "metadata": {},
   "outputs": [],
   "source": [
    "# title_vectrz = CountVectorizer(min_df=25, ngram_range=(1, 3), stop_words=stopwords, norm=None)\n",
    "# title_vec = title_vectrz.fit_transform(full_combine.title)\n",
    "# print(\"Title Tokens:\", len(title_vectrz.get_feature_names()))\n",
    "# features.extend(title_vectrz.get_feature_names())"
   ]
  },
  {
   "cell_type": "code",
   "execution_count": 14,
   "metadata": {},
   "outputs": [
    {
     "output_type": "stream",
     "name": "stdout",
     "text": [
      "Genre Tokens: 20\n"
     ]
    }
   ],
   "source": [
    "genre_vectrz = CountVectorizer(token_pattern=r\"[A-z\\-]+\", min_df=2)\n",
    "genre_vec = genre_vectrz.fit_transform(full_combine.genres)\n",
    "print(\"Genre Tokens:\", len(genre_vectrz.get_feature_names()))\n",
    "features.extend(genre_vectrz.get_feature_names())"
   ]
  },
  {
   "cell_type": "code",
   "execution_count": 15,
   "metadata": {},
   "outputs": [
    {
     "output_type": "stream",
     "name": "stdout",
     "text": [
      "Cast Tokens: 817\n"
     ]
    }
   ],
   "source": [
    "cast_vectrz = CountVectorizer(token_pattern=r\"[^\\|]+\", min_df=20)\n",
    "cast_vec = cast_vectrz.fit_transform(full_combine.title_cast)\n",
    "print(\"Cast Tokens:\", len(cast_vectrz.get_feature_names()))\n",
    "features.extend(cast_vectrz.get_feature_names())"
   ]
  },
  {
   "cell_type": "code",
   "execution_count": 16,
   "metadata": {},
   "outputs": [
    {
     "output_type": "stream",
     "name": "stdout",
     "text": [
      "Director Tokens: 30\n"
     ]
    }
   ],
   "source": [
    "director_vectrz = CountVectorizer(token_pattern=r\".+\", min_df=10, stop_words=['see full summary'])\n",
    "director_vec = director_vectrz.fit_transform(full_combine.director)\n",
    "print(\"Director Tokens:\", len(director_vectrz.get_feature_names()))\n",
    "features.extend(director_vectrz.get_feature_names())"
   ]
  },
  {
   "cell_type": "code",
   "execution_count": 17,
   "metadata": {},
   "outputs": [
    {
     "output_type": "stream",
     "name": "stdout",
     "text": [
      "Plot KW Tokens: 1001\n"
     ]
    }
   ],
   "source": [
    "plot_vectrz = CountVectorizer(token_pattern=r\"[^\\|]+\", min_df=10, stop_words=stopwords)\n",
    "plot_vec = plot_vectrz.fit_transform(full_combine.plot_keywords)\n",
    "print(\"Plot KW Tokens:\", len(plot_vectrz.get_feature_names()))\n",
    "features.extend(plot_vectrz.get_feature_names())"
   ]
  },
  {
   "cell_type": "code",
   "execution_count": 18,
   "metadata": {},
   "outputs": [],
   "source": [
    "genome_features = [col for col in genome_tag_vec.columns if col != 'movieId']\n",
    "features.extend(genome_features)\n",
    "sparse_genome = sparse.csr_matrix(full_combine[genome_features])"
   ]
  },
  {
   "cell_type": "code",
   "execution_count": 19,
   "metadata": {},
   "outputs": [
    {
     "output_type": "execute_result",
     "data": {
      "text/plain": [
       "(62423, 3003)"
      ]
     },
     "metadata": {},
     "execution_count": 19
    }
   ],
   "source": [
    "extra_features = [\"year\", \"runtime\", \"budget\", \"rating_mean\", \"rating_std\", \"rating_iqr\", \"rating_count\"]\n",
    "features.extend(extra_features)\n",
    "\n",
    "extra_features = full_combine[extra_features]\n",
    "\n",
    "scaler = MinMaxScaler()\n",
    "transformed = scaler.fit_transform(extra_features)\n",
    "std_extra_sparse = sparse.csr_matrix(transformed)\n",
    "\n",
    "tfidf_vecs = sparse.hstack([\n",
    "    # title_vec,\n",
    "    genre_vec,\n",
    "    cast_vec,\n",
    "    director_vec,\n",
    "    plot_vec,\n",
    "]).tocsr()\n",
    "\n",
    "vecs = sparse.hstack([tfidf_vecs, sparse_genome, std_extra_sparse])\n",
    "norm = Normalizer(copy=True)\n",
    "norm_vecs = norm.transform(vecs)\n",
    "norm_vecs.shape"
   ]
  },
  {
   "cell_type": "code",
   "execution_count": 20,
   "metadata": {
    "tags": []
   },
   "outputs": [
    {
     "output_type": "execute_result",
     "data": {
      "text/plain": [
       "                            a         b          diff\n",
       "sam rockwell         0.000000  0.107183  1.071829e-01\n",
       "based on comic book  0.000000  0.107183  1.071829e-01\n",
       "thriller             0.000000  0.107183  1.071829e-01\n",
       "don cheadle          0.000000  0.107183  1.071829e-01\n",
       "jon favreau          0.000000  0.107183  1.071829e-01\n",
       "...                       ...       ...           ...\n",
       "ocean                0.004988  0.004984  4.051464e-06\n",
       "rabbits              0.001175  0.001179  3.940940e-06\n",
       "christianity         0.000887  0.000884  3.039553e-06\n",
       "animals              0.006595  0.006592  3.037643e-06\n",
       "musical              0.002734  0.002733  6.746073e-07\n",
       "\n",
       "[1157 rows x 3 columns]"
      ],
      "text/html": "<div>\n<style scoped>\n    .dataframe tbody tr th:only-of-type {\n        vertical-align: middle;\n    }\n\n    .dataframe tbody tr th {\n        vertical-align: top;\n    }\n\n    .dataframe thead th {\n        text-align: right;\n    }\n</style>\n<table border=\"1\" class=\"dataframe\">\n  <thead>\n    <tr style=\"text-align: right;\">\n      <th></th>\n      <th>a</th>\n      <th>b</th>\n      <th>diff</th>\n    </tr>\n  </thead>\n  <tbody>\n    <tr>\n      <th>sam rockwell</th>\n      <td>0.000000</td>\n      <td>0.107183</td>\n      <td>1.071829e-01</td>\n    </tr>\n    <tr>\n      <th>based on comic book</th>\n      <td>0.000000</td>\n      <td>0.107183</td>\n      <td>1.071829e-01</td>\n    </tr>\n    <tr>\n      <th>thriller</th>\n      <td>0.000000</td>\n      <td>0.107183</td>\n      <td>1.071829e-01</td>\n    </tr>\n    <tr>\n      <th>don cheadle</th>\n      <td>0.000000</td>\n      <td>0.107183</td>\n      <td>1.071829e-01</td>\n    </tr>\n    <tr>\n      <th>jon favreau</th>\n      <td>0.000000</td>\n      <td>0.107183</td>\n      <td>1.071829e-01</td>\n    </tr>\n    <tr>\n      <th>...</th>\n      <td>...</td>\n      <td>...</td>\n      <td>...</td>\n    </tr>\n    <tr>\n      <th>ocean</th>\n      <td>0.004988</td>\n      <td>0.004984</td>\n      <td>4.051464e-06</td>\n    </tr>\n    <tr>\n      <th>rabbits</th>\n      <td>0.001175</td>\n      <td>0.001179</td>\n      <td>3.940940e-06</td>\n    </tr>\n    <tr>\n      <th>christianity</th>\n      <td>0.000887</td>\n      <td>0.000884</td>\n      <td>3.039553e-06</td>\n    </tr>\n    <tr>\n      <th>animals</th>\n      <td>0.006595</td>\n      <td>0.006592</td>\n      <td>3.037643e-06</td>\n    </tr>\n    <tr>\n      <th>musical</th>\n      <td>0.002734</td>\n      <td>0.002733</td>\n      <td>6.746073e-07</td>\n    </tr>\n  </tbody>\n</table>\n<p>1157 rows × 3 columns</p>\n</div>"
     },
     "metadata": {},
     "execution_count": 20
    }
   ],
   "source": [
    "a = norm_vecs.getrow(17067).toarray().flatten()\n",
    "b = norm_vecs.getrow(14628).toarray().flatten()\n",
    "\n",
    "f = pd.DataFrame(index=features)\n",
    "f['a'] = a\n",
    "f['b'] = b\n",
    "f['diff'] = np.abs(f.a - f.b)\n",
    "\n",
    "f[f.a != f.b].sort_values('diff', ascending=False)"
   ]
  },
  {
   "cell_type": "code",
   "execution_count": 21,
   "metadata": {},
   "outputs": [
    {
     "output_type": "stream",
     "name": "stdout",
     "text": [
      "1.0 17067 The Avengers\n0.8951058359 12324 Iron Man\n0.8915574534 25058 Avengers: Age of Ultron\n0.8836220293 25061 Ant-Man\n0.8812012854 14628 Iron Man 2\n0.8804854623 21348 Captain America: The Winter Soldier\n0.8711449397 25072 Doctor Strange\n0.8643691094 25071 Captain America: Civil War\n0.8628606915 16312 Thor\n0.8589632293 25070 Guardians of the Galaxy 2\n--------------------\n0.017348902078642935 Miniature Theatre\n0.017081294194473868 Caicedo (with Pole)\n0.016067734717298793 Apparitions\n0.016067734717298793 The Oracle of Delphi\n0.016067734717298793 Jupiter's Thunderballs\n0.015262073614173423 Je vous aime\n0.014942000994070915 Diabolical Pickpocket\n0.01477810705079454 Explosion of a Motor Car\n0.012176408254379163 Fire Rescue Scene\n0.008480747746019753 Athlete Swinging a Pick\n"
     ]
    }
   ],
   "source": [
    "def most_similar_to(movieId):\n",
    "    movie_idx = movies[movies['movieId'] == movieId].index[0]\n",
    "\n",
    "    return norm_vecs.dot(norm_vecs.getrow(movie_idx).transpose())\n",
    "\n",
    "avengers = 89745\n",
    "avengers2 = 122892\n",
    "amazing_spiderman = 95510\n",
    "fault_in_stars = 111921\n",
    "\n",
    "mst = most_similar_to(avengers).toarray().flatten()\n",
    "n = 10\n",
    "top_n = mst.argsort(axis=0)[-n:][::-1]\n",
    "bot_n = mst.argsort(axis=0)[:n][::-1]\n",
    "\n",
    "for similar_idx in top_n:\n",
    "    title = full_combine.iloc[similar_idx].title\n",
    "    sim = round(mst[similar_idx], 10)\n",
    "    print(sim, similar_idx, title)\n",
    "\n",
    "print('-' * 20)\n",
    "\n",
    "for similar_idx in bot_n:\n",
    "    title = full_combine.iloc[similar_idx].title\n",
    "    sim = mst[similar_idx]\n",
    "    print(sim, title)\n",
    "# most_similar = most_similar_to(avengers).toarray().argmax()\n",
    "# movie_data.iloc[most_similar]"
   ]
  },
  {
   "cell_type": "code",
   "execution_count": 22,
   "metadata": {
    "tags": []
   },
   "outputs": [],
   "source": [
    "movie_indexes = full_combine.movieId.copy()\n",
    "experiment = train.copy().drop('timestamp', axis=1)\n",
    "\n",
    "mid_to_idx = pd.Series(movie_indexes.index.values, index=movie_indexes).to_dict()"
   ]
  },
  {
   "cell_type": "code",
   "execution_count": 23,
   "metadata": {},
   "outputs": [],
   "source": [
    "def remove_diag(x):\n",
    "    x_no_diag = np.ndarray.flatten(x)\n",
    "    x_no_diag = np.delete(x_no_diag, range(0, len(x_no_diag), len(x) + 1), 0)\n",
    "    x_no_diag = x_no_diag.reshape(len(x), len(x) - 1)\n",
    "    return x_no_diag"
   ]
  },
  {
   "cell_type": "code",
   "execution_count": 24,
   "metadata": {},
   "outputs": [],
   "source": [
    "mean_movie_rating_by_movie_id = train.groupby('movieId').rating.mean()"
   ]
  },
  {
   "cell_type": "code",
   "execution_count": 25,
   "metadata": {},
   "outputs": [],
   "source": [
    "# combined_data = pd.concat([train, test])\n",
    "# combined_data.drop(\"timestamp\", axis=1, inplace=True)\n",
    "# combined_data.sort_values(['userId', 'rating'], inplace=True)\n",
    "# combined_data.reset_index(inplace=True, drop=True)\n",
    "# combined_data"
   ]
  },
  {
   "cell_type": "code",
   "execution_count": 26,
   "metadata": {
    "tags": []
   },
   "outputs": [],
   "source": [
    "def predict_ratings(data):\n",
    "    history = data[data.rating.notna()]\n",
    "    to_predict = data[data.rating.isna()]\n",
    "\n",
    "    if len(history) == 1:\n",
    "        print(data.userId.unique())\n",
    "        mean_guesses = mean_movie_rating_by_movie_id.loc[to_predict.movieId.values].values\n",
    "        print(mean_guesses)\n",
    "        to_predict['pred'] = mean_guesses\n",
    "        return pd.concat([history, to_predict])\n",
    "\n",
    "    if len(to_predict) == 0:\n",
    "        return data\n",
    "\n",
    "    idxs = [mid_to_idx[i] for i in data.movieId]\n",
    "\n",
    "    historic_ratings = history.rating.values\n",
    "\n",
    "    similarity_matrix = remove_diag(cosine_similarity(norm_vecs[idxs, :]))\n",
    "    sim_matrix = similarity_matrix[len(history):, :len(history)]\n",
    "    \n",
    "    sim_totals = sim_matrix.sum(axis=1)\n",
    "    ratings = np.tile(history.rating, (len(to_predict.rating),1))\n",
    "    weighted_sums = np.einsum('ij,ij->i', sim_matrix, ratings)\n",
    "\n",
    "    to_predict['pred'] = weighted_sums / sim_totals\n",
    "    \n",
    "    return pd.concat([history, to_predict])"
   ]
  },
  {
   "cell_type": "code",
   "execution_count": 27,
   "metadata": {},
   "outputs": [],
   "source": [
    "# %%time\n",
    "# parallel_preds = applyParallel(combined_data.groupby(\"userId\"), predict_ratings)"
   ]
  },
  {
   "cell_type": "code",
   "execution_count": 28,
   "metadata": {},
   "outputs": [],
   "source": [
    "experiment = train.copy()\n",
    "experiment.drop('timestamp', inplace=True, axis=1)\n",
    "\n",
    "experiment['original'] = experiment['rating']\n",
    "experiment['rating'] = experiment.rating.sample(frac=0.85)"
   ]
  },
  {
   "cell_type": "code",
   "execution_count": 29,
   "metadata": {},
   "outputs": [
    {
     "output_type": "stream",
     "name": "stdout",
     "text": [
      "CPU times: user 6min 12s, sys: 41.9 s, total: 6min 54s\nWall time: 15min 35s\n"
     ]
    }
   ],
   "source": [
    "%%time\n",
    "experimental_preds = applyParallel(experiment.groupby(\"userId\"), predict_ratings)"
   ]
  },
  {
   "cell_type": "code",
   "execution_count": 30,
   "metadata": {},
   "outputs": [],
   "source": [
    "p = experimental_preds[experimental_preds.pred.notna()].copy()\n",
    "p['err'] = np.abs(p.original - p.pred)"
   ]
  },
  {
   "cell_type": "code",
   "execution_count": 31,
   "metadata": {},
   "outputs": [
    {
     "output_type": "execute_result",
     "data": {
      "text/plain": [
       "              err  count  rating_mean\n",
       "movieId                              \n",
       "193267   4.338793      3     1.666667\n",
       "5565     4.109974      3     1.500000\n",
       "199442   4.039009      2     1.750000\n",
       "199452   4.038053      3     0.500000\n",
       "133547   4.026578      3     2.333333\n",
       "...           ...    ...          ...\n",
       "172459   3.034312      6     2.250000\n",
       "76836    3.031792      5     2.400000\n",
       "78642    3.010391      2     1.000000\n",
       "78019    3.008042     11     3.136364\n",
       "86947    3.005496      7     2.214286\n",
       "\n",
       "[85 rows x 3 columns]"
      ],
      "text/html": "<div>\n<style scoped>\n    .dataframe tbody tr th:only-of-type {\n        vertical-align: middle;\n    }\n\n    .dataframe tbody tr th {\n        vertical-align: top;\n    }\n\n    .dataframe thead th {\n        text-align: right;\n    }\n</style>\n<table border=\"1\" class=\"dataframe\">\n  <thead>\n    <tr style=\"text-align: right;\">\n      <th></th>\n      <th>err</th>\n      <th>count</th>\n      <th>rating_mean</th>\n    </tr>\n    <tr>\n      <th>movieId</th>\n      <th></th>\n      <th></th>\n      <th></th>\n    </tr>\n  </thead>\n  <tbody>\n    <tr>\n      <th>193267</th>\n      <td>4.338793</td>\n      <td>3</td>\n      <td>1.666667</td>\n    </tr>\n    <tr>\n      <th>5565</th>\n      <td>4.109974</td>\n      <td>3</td>\n      <td>1.500000</td>\n    </tr>\n    <tr>\n      <th>199442</th>\n      <td>4.039009</td>\n      <td>2</td>\n      <td>1.750000</td>\n    </tr>\n    <tr>\n      <th>199452</th>\n      <td>4.038053</td>\n      <td>3</td>\n      <td>0.500000</td>\n    </tr>\n    <tr>\n      <th>133547</th>\n      <td>4.026578</td>\n      <td>3</td>\n      <td>2.333333</td>\n    </tr>\n    <tr>\n      <th>...</th>\n      <td>...</td>\n      <td>...</td>\n      <td>...</td>\n    </tr>\n    <tr>\n      <th>172459</th>\n      <td>3.034312</td>\n      <td>6</td>\n      <td>2.250000</td>\n    </tr>\n    <tr>\n      <th>76836</th>\n      <td>3.031792</td>\n      <td>5</td>\n      <td>2.400000</td>\n    </tr>\n    <tr>\n      <th>78642</th>\n      <td>3.010391</td>\n      <td>2</td>\n      <td>1.000000</td>\n    </tr>\n    <tr>\n      <th>78019</th>\n      <td>3.008042</td>\n      <td>11</td>\n      <td>3.136364</td>\n    </tr>\n    <tr>\n      <th>86947</th>\n      <td>3.005496</td>\n      <td>7</td>\n      <td>2.214286</td>\n    </tr>\n  </tbody>\n</table>\n<p>85 rows × 3 columns</p>\n</div>"
     },
     "metadata": {},
     "execution_count": 31
    }
   ],
   "source": [
    "mae_by_movie = p.groupby('movieId').err.mean().sort_values(ascending=False)\n",
    "extreme_movies = pd.DataFrame(mae_by_movie[mae_by_movie > 3.])\n",
    "extreme_movies['count'] = train.groupby('movieId').apply(len)\n",
    "extreme_movies['rating_mean'] = full_combine.set_index('movieId', drop=True).rating_mean\n",
    "extreme_movies"
   ]
  },
  {
   "cell_type": "code",
   "execution_count": 32,
   "metadata": {},
   "outputs": [
    {
     "output_type": "execute_result",
     "data": {
      "text/plain": [
       "0.9603667186227086"
      ]
     },
     "metadata": {},
     "execution_count": 32
    }
   ],
   "source": [
    "np.sqrt(np.mean(np.power(p.original - p.pred, 2)))"
   ]
  },
  {
   "cell_type": "code",
   "execution_count": 33,
   "metadata": {},
   "outputs": [
    {
     "output_type": "execute_result",
     "data": {
      "text/plain": [
       "userId\n",
       "156196    4.295730\n",
       "52594     4.256298\n",
       "71695     4.230000\n",
       "100662    4.134870\n",
       "151339    4.131356\n",
       "            ...   \n",
       "85754     3.014344\n",
       "159372    3.011203\n",
       "161610    3.010237\n",
       "125776    3.003663\n",
       "48981     3.003604\n",
       "Name: err, Length: 254, dtype: float64"
      ]
     },
     "metadata": {},
     "execution_count": 33
    }
   ],
   "source": [
    "mae_by_user = p.groupby('userId').err.mean().sort_values(ascending=False)\n",
    "extreme_users = mae_by_user[mae_by_user > 3.]\n",
    "extreme_users"
   ]
  },
  {
   "cell_type": "code",
   "execution_count": 35,
   "metadata": {
    "tags": []
   },
   "outputs": [],
   "source": [
    "def make_submission_file(df, filename=\"submission.csv\"):\n",
    "    df.reset_index(drop=True)\n",
    "    df.drop(df[df.rating.notna()].index, inplace=True)\n",
    "    df[\"rating\"] = df[\"pred\"]\n",
    "    df[\"Id\"] = df.userId.astype(str) + \"_\" + df.movieId.astype(str)\n",
    "    df[[\"Id\", \"rating\"]].to_csv(filename, index=False, chunksize=100_000)"
   ]
  },
  {
   "cell_type": "code",
   "execution_count": 40,
   "metadata": {},
   "outputs": [
    {
     "output_type": "error",
     "ename": "KeyboardInterrupt",
     "evalue": "",
     "traceback": [
      "\u001b[0;31m---------------------------------------------------------------------------\u001b[0m",
      "\u001b[0;31mKeyboardInterrupt\u001b[0m                         Traceback (most recent call last)",
      "\u001b[0;32m<timed exec>\u001b[0m in \u001b[0;36m<module>\u001b[0;34m\u001b[0m\n",
      "\u001b[0;32m~/miniforge3/envs/unsup_predict/lib/python3.9/site-packages/pandas/core/indexing.py\u001b[0m in \u001b[0;36m__getitem__\u001b[0;34m(self, key)\u001b[0m\n\u001b[1;32m    893\u001b[0m \u001b[0;34m\u001b[0m\u001b[0m\n\u001b[1;32m    894\u001b[0m             \u001b[0mmaybe_callable\u001b[0m \u001b[0;34m=\u001b[0m \u001b[0mcom\u001b[0m\u001b[0;34m.\u001b[0m\u001b[0mapply_if_callable\u001b[0m\u001b[0;34m(\u001b[0m\u001b[0mkey\u001b[0m\u001b[0;34m,\u001b[0m \u001b[0mself\u001b[0m\u001b[0;34m.\u001b[0m\u001b[0mobj\u001b[0m\u001b[0;34m)\u001b[0m\u001b[0;34m\u001b[0m\u001b[0;34m\u001b[0m\u001b[0m\n\u001b[0;32m--> 895\u001b[0;31m             \u001b[0;32mreturn\u001b[0m \u001b[0mself\u001b[0m\u001b[0;34m.\u001b[0m\u001b[0m_getitem_axis\u001b[0m\u001b[0;34m(\u001b[0m\u001b[0mmaybe_callable\u001b[0m\u001b[0;34m,\u001b[0m \u001b[0maxis\u001b[0m\u001b[0;34m=\u001b[0m\u001b[0maxis\u001b[0m\u001b[0;34m)\u001b[0m\u001b[0;34m\u001b[0m\u001b[0;34m\u001b[0m\u001b[0m\n\u001b[0m\u001b[1;32m    896\u001b[0m \u001b[0;34m\u001b[0m\u001b[0m\n\u001b[1;32m    897\u001b[0m     \u001b[0;32mdef\u001b[0m \u001b[0m_is_scalar_access\u001b[0m\u001b[0;34m(\u001b[0m\u001b[0mself\u001b[0m\u001b[0;34m,\u001b[0m \u001b[0mkey\u001b[0m\u001b[0;34m:\u001b[0m \u001b[0mTuple\u001b[0m\u001b[0;34m)\u001b[0m\u001b[0;34m:\u001b[0m\u001b[0;34m\u001b[0m\u001b[0;34m\u001b[0m\u001b[0m\n",
      "\u001b[0;32m~/miniforge3/envs/unsup_predict/lib/python3.9/site-packages/pandas/core/indexing.py\u001b[0m in \u001b[0;36m_getitem_axis\u001b[0;34m(self, key, axis)\u001b[0m\n\u001b[1;32m   1111\u001b[0m                     \u001b[0;32mraise\u001b[0m \u001b[0mValueError\u001b[0m\u001b[0;34m(\u001b[0m\u001b[0;34m\"Cannot index with multidimensional key\"\u001b[0m\u001b[0;34m)\u001b[0m\u001b[0;34m\u001b[0m\u001b[0;34m\u001b[0m\u001b[0m\n\u001b[1;32m   1112\u001b[0m \u001b[0;34m\u001b[0m\u001b[0m\n\u001b[0;32m-> 1113\u001b[0;31m                 \u001b[0;32mreturn\u001b[0m \u001b[0mself\u001b[0m\u001b[0;34m.\u001b[0m\u001b[0m_getitem_iterable\u001b[0m\u001b[0;34m(\u001b[0m\u001b[0mkey\u001b[0m\u001b[0;34m,\u001b[0m \u001b[0maxis\u001b[0m\u001b[0;34m=\u001b[0m\u001b[0maxis\u001b[0m\u001b[0;34m)\u001b[0m\u001b[0;34m\u001b[0m\u001b[0;34m\u001b[0m\u001b[0m\n\u001b[0m\u001b[1;32m   1114\u001b[0m \u001b[0;34m\u001b[0m\u001b[0m\n\u001b[1;32m   1115\u001b[0m             \u001b[0;31m# nested tuple slicing\u001b[0m\u001b[0;34m\u001b[0m\u001b[0;34m\u001b[0m\u001b[0;34m\u001b[0m\u001b[0m\n",
      "\u001b[0;32m~/miniforge3/envs/unsup_predict/lib/python3.9/site-packages/pandas/core/indexing.py\u001b[0m in \u001b[0;36m_getitem_iterable\u001b[0;34m(self, key, axis)\u001b[0m\n\u001b[1;32m   1051\u001b[0m \u001b[0;34m\u001b[0m\u001b[0m\n\u001b[1;32m   1052\u001b[0m         \u001b[0;31m# A collection of keys\u001b[0m\u001b[0;34m\u001b[0m\u001b[0;34m\u001b[0m\u001b[0;34m\u001b[0m\u001b[0m\n\u001b[0;32m-> 1053\u001b[0;31m         \u001b[0mkeyarr\u001b[0m\u001b[0;34m,\u001b[0m \u001b[0mindexer\u001b[0m \u001b[0;34m=\u001b[0m \u001b[0mself\u001b[0m\u001b[0;34m.\u001b[0m\u001b[0m_get_listlike_indexer\u001b[0m\u001b[0;34m(\u001b[0m\u001b[0mkey\u001b[0m\u001b[0;34m,\u001b[0m \u001b[0maxis\u001b[0m\u001b[0;34m,\u001b[0m \u001b[0mraise_missing\u001b[0m\u001b[0;34m=\u001b[0m\u001b[0;32mFalse\u001b[0m\u001b[0;34m)\u001b[0m\u001b[0;34m\u001b[0m\u001b[0;34m\u001b[0m\u001b[0m\n\u001b[0m\u001b[1;32m   1054\u001b[0m         return self.obj._reindex_with_indexers(\n\u001b[1;32m   1055\u001b[0m             \u001b[0;34m{\u001b[0m\u001b[0maxis\u001b[0m\u001b[0;34m:\u001b[0m \u001b[0;34m[\u001b[0m\u001b[0mkeyarr\u001b[0m\u001b[0;34m,\u001b[0m \u001b[0mindexer\u001b[0m\u001b[0;34m]\u001b[0m\u001b[0;34m}\u001b[0m\u001b[0;34m,\u001b[0m \u001b[0mcopy\u001b[0m\u001b[0;34m=\u001b[0m\u001b[0;32mTrue\u001b[0m\u001b[0;34m,\u001b[0m \u001b[0mallow_dups\u001b[0m\u001b[0;34m=\u001b[0m\u001b[0;32mTrue\u001b[0m\u001b[0;34m\u001b[0m\u001b[0;34m\u001b[0m\u001b[0m\n",
      "\u001b[0;32m~/miniforge3/envs/unsup_predict/lib/python3.9/site-packages/pandas/core/indexing.py\u001b[0m in \u001b[0;36m_get_listlike_indexer\u001b[0;34m(self, key, axis, raise_missing)\u001b[0m\n\u001b[1;32m   1262\u001b[0m             \u001b[0mkeyarr\u001b[0m \u001b[0;34m=\u001b[0m \u001b[0max\u001b[0m\u001b[0;34m.\u001b[0m\u001b[0mreindex\u001b[0m\u001b[0;34m(\u001b[0m\u001b[0mkeyarr\u001b[0m\u001b[0;34m)\u001b[0m\u001b[0;34m[\u001b[0m\u001b[0;36m0\u001b[0m\u001b[0;34m]\u001b[0m\u001b[0;34m\u001b[0m\u001b[0;34m\u001b[0m\u001b[0m\n\u001b[1;32m   1263\u001b[0m         \u001b[0;32melse\u001b[0m\u001b[0;34m:\u001b[0m\u001b[0;34m\u001b[0m\u001b[0;34m\u001b[0m\u001b[0m\n\u001b[0;32m-> 1264\u001b[0;31m             \u001b[0mkeyarr\u001b[0m\u001b[0;34m,\u001b[0m \u001b[0mindexer\u001b[0m\u001b[0;34m,\u001b[0m \u001b[0mnew_indexer\u001b[0m \u001b[0;34m=\u001b[0m \u001b[0max\u001b[0m\u001b[0;34m.\u001b[0m\u001b[0m_reindex_non_unique\u001b[0m\u001b[0;34m(\u001b[0m\u001b[0mkeyarr\u001b[0m\u001b[0;34m)\u001b[0m\u001b[0;34m\u001b[0m\u001b[0;34m\u001b[0m\u001b[0m\n\u001b[0m\u001b[1;32m   1265\u001b[0m \u001b[0;34m\u001b[0m\u001b[0m\n\u001b[1;32m   1266\u001b[0m         \u001b[0mself\u001b[0m\u001b[0;34m.\u001b[0m\u001b[0m_validate_read_indexer\u001b[0m\u001b[0;34m(\u001b[0m\u001b[0mkeyarr\u001b[0m\u001b[0;34m,\u001b[0m \u001b[0mindexer\u001b[0m\u001b[0;34m,\u001b[0m \u001b[0maxis\u001b[0m\u001b[0;34m,\u001b[0m \u001b[0mraise_missing\u001b[0m\u001b[0;34m=\u001b[0m\u001b[0mraise_missing\u001b[0m\u001b[0;34m)\u001b[0m\u001b[0;34m\u001b[0m\u001b[0;34m\u001b[0m\u001b[0m\n",
      "\u001b[0;32m~/miniforge3/envs/unsup_predict/lib/python3.9/site-packages/pandas/core/indexes/base.py\u001b[0m in \u001b[0;36m_reindex_non_unique\u001b[0;34m(self, target)\u001b[0m\n\u001b[1;32m   3554\u001b[0m             \u001b[0;32mreturn\u001b[0m \u001b[0mself\u001b[0m\u001b[0;34m[\u001b[0m\u001b[0;34m:\u001b[0m\u001b[0;36m0\u001b[0m\u001b[0;34m]\u001b[0m\u001b[0;34m,\u001b[0m \u001b[0mnp\u001b[0m\u001b[0;34m.\u001b[0m\u001b[0marray\u001b[0m\u001b[0;34m(\u001b[0m\u001b[0;34m[\u001b[0m\u001b[0;34m]\u001b[0m\u001b[0;34m,\u001b[0m \u001b[0mdtype\u001b[0m\u001b[0;34m=\u001b[0m\u001b[0mnp\u001b[0m\u001b[0;34m.\u001b[0m\u001b[0mintp\u001b[0m\u001b[0;34m)\u001b[0m\u001b[0;34m,\u001b[0m \u001b[0;32mNone\u001b[0m\u001b[0;34m\u001b[0m\u001b[0;34m\u001b[0m\u001b[0m\n\u001b[1;32m   3555\u001b[0m \u001b[0;34m\u001b[0m\u001b[0m\n\u001b[0;32m-> 3556\u001b[0;31m         \u001b[0mindexer\u001b[0m\u001b[0;34m,\u001b[0m \u001b[0mmissing\u001b[0m \u001b[0;34m=\u001b[0m \u001b[0mself\u001b[0m\u001b[0;34m.\u001b[0m\u001b[0mget_indexer_non_unique\u001b[0m\u001b[0;34m(\u001b[0m\u001b[0mtarget\u001b[0m\u001b[0;34m)\u001b[0m\u001b[0;34m\u001b[0m\u001b[0;34m\u001b[0m\u001b[0m\n\u001b[0m\u001b[1;32m   3557\u001b[0m         \u001b[0mcheck\u001b[0m \u001b[0;34m=\u001b[0m \u001b[0mindexer\u001b[0m \u001b[0;34m!=\u001b[0m \u001b[0;34m-\u001b[0m\u001b[0;36m1\u001b[0m\u001b[0;34m\u001b[0m\u001b[0;34m\u001b[0m\u001b[0m\n\u001b[1;32m   3558\u001b[0m         \u001b[0mnew_labels\u001b[0m \u001b[0;34m=\u001b[0m \u001b[0mself\u001b[0m\u001b[0;34m.\u001b[0m\u001b[0mtake\u001b[0m\u001b[0;34m(\u001b[0m\u001b[0mindexer\u001b[0m\u001b[0;34m[\u001b[0m\u001b[0mcheck\u001b[0m\u001b[0;34m]\u001b[0m\u001b[0;34m)\u001b[0m\u001b[0;34m\u001b[0m\u001b[0;34m\u001b[0m\u001b[0m\n",
      "\u001b[0;32m~/miniforge3/envs/unsup_predict/lib/python3.9/site-packages/pandas/core/indexes/base.py\u001b[0m in \u001b[0;36mget_indexer_non_unique\u001b[0;34m(self, target)\u001b[0m\n\u001b[1;32m   4942\u001b[0m             \u001b[0mtgt_values\u001b[0m \u001b[0;34m=\u001b[0m \u001b[0mtarget\u001b[0m\u001b[0;34m.\u001b[0m\u001b[0m_get_engine_target\u001b[0m\u001b[0;34m(\u001b[0m\u001b[0;34m)\u001b[0m\u001b[0;34m\u001b[0m\u001b[0;34m\u001b[0m\u001b[0m\n\u001b[1;32m   4943\u001b[0m \u001b[0;34m\u001b[0m\u001b[0m\n\u001b[0;32m-> 4944\u001b[0;31m         \u001b[0mindexer\u001b[0m\u001b[0;34m,\u001b[0m \u001b[0mmissing\u001b[0m \u001b[0;34m=\u001b[0m \u001b[0mself\u001b[0m\u001b[0;34m.\u001b[0m\u001b[0m_engine\u001b[0m\u001b[0;34m.\u001b[0m\u001b[0mget_indexer_non_unique\u001b[0m\u001b[0;34m(\u001b[0m\u001b[0mtgt_values\u001b[0m\u001b[0;34m)\u001b[0m\u001b[0;34m\u001b[0m\u001b[0;34m\u001b[0m\u001b[0m\n\u001b[0m\u001b[1;32m   4945\u001b[0m         \u001b[0;32mreturn\u001b[0m \u001b[0mensure_platform_int\u001b[0m\u001b[0;34m(\u001b[0m\u001b[0mindexer\u001b[0m\u001b[0;34m)\u001b[0m\u001b[0;34m,\u001b[0m \u001b[0mmissing\u001b[0m\u001b[0;34m\u001b[0m\u001b[0;34m\u001b[0m\u001b[0m\n\u001b[1;32m   4946\u001b[0m \u001b[0;34m\u001b[0m\u001b[0m\n",
      "\u001b[0;32mpandas/_libs/index.pyx\u001b[0m in \u001b[0;36mpandas._libs.index.IndexEngine.get_indexer_non_unique\u001b[0;34m()\u001b[0m\n",
      "\u001b[0;32m<__array_function__ internals>\u001b[0m in \u001b[0;36mresize\u001b[0;34m(*args, **kwargs)\u001b[0m\n",
      "\u001b[0;31mKeyboardInterrupt\u001b[0m: "
     ]
    }
   ],
   "source": [
    "%%time\n",
    "\n",
    "community = dict()\n",
    "\n",
    "users = len(train.userId.unique())\n",
    "\n",
    "movie_community = train.set_index('movieId', drop=True).drop(\"timestamp\", axis=1)\n",
    "\n",
    "for idx, (uid, group) in enumerate(train.groupby(\"userId\")):\n",
    "    movies = group.movieId.unique()\n",
    "    community[uid] = movie_community.loc[movies].userId.unique()\n",
    "\n",
    "    if ((idx + 1) % 1_000) == 0:\n",
    "        print(\"[progress]\", round(idx / len(users) * 100.0, 2), \"%\")"
   ]
  },
  {
   "cell_type": "code",
   "execution_count": 38,
   "metadata": {},
   "outputs": [
    {
     "output_type": "execute_result",
     "data": {
      "text/plain": [
       "         userId  rating   timestamp\n",
       "movieId                            \n",
       "57669      5163     4.0  1518349992\n",
       "5        106343     4.5  1206238739\n",
       "5459     146790     5.0  1076215539\n",
       "32296    106362     2.0  1423042565\n",
       "366        9041     3.0   833375837\n",
       "...         ...     ...         ...\n",
       "99114    136395     5.0  1521235092\n",
       "553      140078     3.0  1002580977\n",
       "56782    154807     4.0  1227674807\n",
       "327       85805     4.0  1479921530\n",
       "1009     139457     4.0   858984862\n",
       "\n",
       "[10000038 rows x 3 columns]"
      ],
      "text/html": "<div>\n<style scoped>\n    .dataframe tbody tr th:only-of-type {\n        vertical-align: middle;\n    }\n\n    .dataframe tbody tr th {\n        vertical-align: top;\n    }\n\n    .dataframe thead th {\n        text-align: right;\n    }\n</style>\n<table border=\"1\" class=\"dataframe\">\n  <thead>\n    <tr style=\"text-align: right;\">\n      <th></th>\n      <th>userId</th>\n      <th>rating</th>\n      <th>timestamp</th>\n    </tr>\n    <tr>\n      <th>movieId</th>\n      <th></th>\n      <th></th>\n      <th></th>\n    </tr>\n  </thead>\n  <tbody>\n    <tr>\n      <th>57669</th>\n      <td>5163</td>\n      <td>4.0</td>\n      <td>1518349992</td>\n    </tr>\n    <tr>\n      <th>5</th>\n      <td>106343</td>\n      <td>4.5</td>\n      <td>1206238739</td>\n    </tr>\n    <tr>\n      <th>5459</th>\n      <td>146790</td>\n      <td>5.0</td>\n      <td>1076215539</td>\n    </tr>\n    <tr>\n      <th>32296</th>\n      <td>106362</td>\n      <td>2.0</td>\n      <td>1423042565</td>\n    </tr>\n    <tr>\n      <th>366</th>\n      <td>9041</td>\n      <td>3.0</td>\n      <td>833375837</td>\n    </tr>\n    <tr>\n      <th>...</th>\n      <td>...</td>\n      <td>...</td>\n      <td>...</td>\n    </tr>\n    <tr>\n      <th>99114</th>\n      <td>136395</td>\n      <td>5.0</td>\n      <td>1521235092</td>\n    </tr>\n    <tr>\n      <th>553</th>\n      <td>140078</td>\n      <td>3.0</td>\n      <td>1002580977</td>\n    </tr>\n    <tr>\n      <th>56782</th>\n      <td>154807</td>\n      <td>4.0</td>\n      <td>1227674807</td>\n    </tr>\n    <tr>\n      <th>327</th>\n      <td>85805</td>\n      <td>4.0</td>\n      <td>1479921530</td>\n    </tr>\n    <tr>\n      <th>1009</th>\n      <td>139457</td>\n      <td>4.0</td>\n      <td>858984862</td>\n    </tr>\n  </tbody>\n</table>\n<p>10000038 rows × 3 columns</p>\n</div>"
     },
     "metadata": {},
     "execution_count": 38
    }
   ],
   "source": []
  },
  {
   "cell_type": "code",
   "execution_count": null,
   "metadata": {},
   "outputs": [],
   "source": []
  }
 ]
}